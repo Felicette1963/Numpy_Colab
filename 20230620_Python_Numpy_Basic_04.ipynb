{
  "nbformat": 4,
  "nbformat_minor": 0,
  "metadata": {
    "colab": {
      "provenance": [],
      "collapsed_sections": [
        "gchQwkseFsUX",
        "5bzioyHoF557",
        "3xe5u1nkGBgM",
        "sMmBl-uLHWwF",
        "ox3H6KB8H4Hd",
        "68MH4LSRINEC",
        "vGgHFClPIWQV",
        "ZCEj6C5UJHHc",
        "TvJHX9FmJtgQ",
        "MbQrSKXMKJAg",
        "D8oZhgNLLCgd",
        "FDtGkcnjLzTM",
        "dCofCh17MOVI",
        "zc2junJdO2d8",
        "NQWG8zU8PJtG",
        "vbycMmG0VH0G",
        "v4NjnD6UVH0H",
        "wRL7wLE0VH0I",
        "w2DVVrypVH0J",
        "fMBOlyfrVH0K",
        "TskiMmNcVH0L"
      ],
      "authorship_tag": "ABX9TyN0B6iufS5+YjqYHex5hVyg",
      "include_colab_link": true
    },
    "kernelspec": {
      "name": "python3",
      "display_name": "Python 3"
    },
    "language_info": {
      "name": "python"
    }
  },
  "cells": [
    {
      "cell_type": "markdown",
      "metadata": {
        "id": "view-in-github",
        "colab_type": "text"
      },
      "source": [
        "<a href=\"https://colab.research.google.com/github/Felicette1963/Python_Numpy_Colab/blob/main/20230620_Python_Basic_Numpy_04ipynb.ipynb\" target=\"_parent\"><img src=\"https://colab.research.google.com/assets/colab-badge.svg\" alt=\"Open In Colab\"/></a>"
      ]
    },
    {
      "cell_type": "markdown",
      "source": [
        "# 기술 통계"
      ],
      "metadata": {
        "id": "tqxkhX-JFimj"
      }
    },
    {
      "cell_type": "markdown",
      "source": [
        "## 기술 통계(descriptive statistics)\n",
        "> 데이터 집합에 대해 통계를 계산\n",
        "* 데이터의 개수(count)\n",
        "* 평균(mean, average)\n",
        "* 분산(variance)\n",
        "* 표준 편차(standard deviation)\n",
        "* 최댓값(maximum)\n",
        "* 최솟값(minimum)\n",
        "* 중앙값(median)\n",
        "* 사분위수(quartile)"
      ],
      "metadata": {
        "id": "gchQwkseFsUX"
      }
    },
    {
      "cell_type": "code",
      "source": [
        "import numpy as np"
      ],
      "metadata": {
        "id": "jttHEMK4F9XX"
      },
      "execution_count": 32,
      "outputs": []
    },
    {
      "cell_type": "code",
      "source": [
        "x = np.array([\n",
        "    18, 5, 10, 23, 19, -8, 10, 0, 0, 5, 2, 15, 8,\n",
        "    2, 5, 4, 15, -1, 4, -7, -24, 7, 9, -6, 23, -13\n",
        "])\n",
        "x"
      ],
      "metadata": {
        "colab": {
          "base_uri": "https://localhost:8080/"
        },
        "id": "n0IfrFFONDE3",
        "outputId": "9551f3f2-dbde-4981-c989-bb3bce2f37d9"
      },
      "execution_count": 33,
      "outputs": [
        {
          "output_type": "execute_result",
          "data": {
            "text/plain": [
              "array([ 18,   5,  10,  23,  19,  -8,  10,   0,   0,   5,   2,  15,   8,\n",
              "         2,   5,   4,  15,  -1,   4,  -7, -24,   7,   9,  -6,  23, -13])"
            ]
          },
          "metadata": {},
          "execution_count": 33
        }
      ]
    },
    {
      "cell_type": "markdown",
      "source": [
        "## 데이터의 개수"
      ],
      "metadata": {
        "id": "5bzioyHoF557"
      }
    },
    {
      "cell_type": "code",
      "source": [
        "len(x)"
      ],
      "metadata": {
        "colab": {
          "base_uri": "https://localhost:8080/"
        },
        "id": "wlTrzCbKFl4j",
        "outputId": "0cbefd5b-1a40-40cd-8786-7c88299d4e43"
      },
      "execution_count": 34,
      "outputs": [
        {
          "output_type": "execute_result",
          "data": {
            "text/plain": [
              "26"
            ]
          },
          "metadata": {},
          "execution_count": 34
        }
      ]
    },
    {
      "cell_type": "markdown",
      "source": [
        "## 표본 평균\n",
        "* 우리가 일반적으로 아는 평균\n",
        "* 통계용어로는 표본 평균(sample average, sample mean)\n",
        "<br>\n",
        "$\n",
        "\\bar{x} = \\frac{1}{N}\\displaystyle\\sum_{i=1}^{N}{x_i}\n",
        "$\n",
        "(𝑁은 데이터의 개수)"
      ],
      "metadata": {
        "id": "3xe5u1nkGBgM"
      }
    },
    {
      "cell_type": "code",
      "source": [
        "np.mean(x), x.mean()"
      ],
      "metadata": {
        "colab": {
          "base_uri": "https://localhost:8080/"
        },
        "id": "SiQn6qJlF_Y_",
        "outputId": "c7f379aa-6d39-4b05-bab8-055f7f34b734"
      },
      "execution_count": 35,
      "outputs": [
        {
          "output_type": "execute_result",
          "data": {
            "text/plain": [
              "(4.8076923076923075, 4.8076923076923075)"
            ]
          },
          "metadata": {},
          "execution_count": 35
        }
      ]
    },
    {
      "cell_type": "markdown",
      "source": [
        "## 표본 분산\n",
        "* 표본 분산(sample variance) : 데이터와 표본 평균간의 거리의 제곱의 평균\n",
        "* 표본 분산이 작으면 데이터가 모여있는 것이고 크면 흩어져 있는 것\n",
        "<br>\n",
        "$\n",
        "s^2 = \\frac{1}{N}\\displaystyle\\sum_{i=1}^{N}{(x_i-\\bar{x})^2}\n",
        "$"
      ],
      "metadata": {
        "id": "sMmBl-uLHWwF"
      }
    },
    {
      "cell_type": "code",
      "source": [
        "np.var(x), x.var()"
      ],
      "metadata": {
        "colab": {
          "base_uri": "https://localhost:8080/"
        },
        "id": "ukbJg498HWZG",
        "outputId": "6dedc18b-1747-4b50-f46e-6bb9016f8d67"
      },
      "execution_count": 36,
      "outputs": [
        {
          "output_type": "execute_result",
          "data": {
            "text/plain": [
              "(115.23224852071006, 115.23224852071006)"
            ]
          },
          "metadata": {},
          "execution_count": 36
        }
      ]
    },
    {
      "cell_type": "markdown",
      "source": [
        "## 표본 표준편차\n",
        "* 표본 표준편차(sample standard variance) : 표본 분산의 양의 제곱근 값\n",
        "<br>\n",
        "$\n",
        "s = \\sqrt{s^2}\n",
        "$"
      ],
      "metadata": {
        "id": "ox3H6KB8H4Hd"
      }
    },
    {
      "cell_type": "code",
      "source": [
        "np.std(x), x.std()"
      ],
      "metadata": {
        "colab": {
          "base_uri": "https://localhost:8080/"
        },
        "id": "ESjtI9K9HP8g",
        "outputId": "d13f9470-0d41-4a6e-8fcf-ba95f75493b2"
      },
      "execution_count": 37,
      "outputs": [
        {
          "output_type": "execute_result",
          "data": {
            "text/plain": [
              "(10.734628476137871, 10.734628476137871)"
            ]
          },
          "metadata": {},
          "execution_count": 37
        }
      ]
    },
    {
      "cell_type": "markdown",
      "source": [
        "## 최댓값과 최솟값"
      ],
      "metadata": {
        "id": "68MH4LSRINEC"
      }
    },
    {
      "cell_type": "code",
      "source": [
        "# 최댓값 (maximum) / 최솟값 (minimum)\n",
        "np.max(x), x.max(), np.min(x), x.min()"
      ],
      "metadata": {
        "colab": {
          "base_uri": "https://localhost:8080/"
        },
        "id": "E-KkdiALIPvE",
        "outputId": "1404c197-b1a5-4baa-cfc2-a74933663f7d"
      },
      "execution_count": 38,
      "outputs": [
        {
          "output_type": "execute_result",
          "data": {
            "text/plain": [
              "(23, 23, -24, -24)"
            ]
          },
          "metadata": {},
          "execution_count": 38
        }
      ]
    },
    {
      "cell_type": "markdown",
      "source": [
        "## 중앙값\n",
        "* 중앙값(median) : 데이터를 크기대로 정렬하였을 때 가장 가운데에 있는 수\n",
        "* 만약 데이터의 수가 짝수이면 가장 가운데에 있는 두 수의 평균을 사용\n"
      ],
      "metadata": {
        "id": "vGgHFClPIWQV"
      }
    },
    {
      "cell_type": "code",
      "source": [
        "np.median(x)  # 내장 메소드 X."
      ],
      "metadata": {
        "colab": {
          "base_uri": "https://localhost:8080/"
        },
        "id": "LS2P0zPnIUvN",
        "outputId": "702c19f3-4adb-4178-c76b-a732a73432bc"
      },
      "execution_count": 39,
      "outputs": [
        {
          "output_type": "execute_result",
          "data": {
            "text/plain": [
              "5.0"
            ]
          },
          "metadata": {},
          "execution_count": 39
        }
      ]
    },
    {
      "cell_type": "markdown",
      "source": [
        "## 사분위수\n",
        "* 사분위수(quartile) : 데이터를 가장 작은 수부터 가장 큰 수까지 크기가 커지는 순서대로 정렬하였을 때 1/4, 2/4, 3/4 위치에 있는 수\n",
        "* 각각 1사분위수, 2사분위수, 3사분위수라고 함\n",
        "* 1/4의 위치란 전체 데이터의 수가 만약 100개이면 25번째 순서, 즉 하위 25%\n",
        "* 따라서 2사분위수는 중앙값과 같음\n",
        "* 때로는 위치를 1/100 단위로 나눈 백분위수(percentile)을 사용하기도 함\n",
        "* 1사분위수는 25% 백분위수와 같음\n"
      ],
      "metadata": {
        "id": "b1pLnirSIfsI"
      }
    },
    {
      "cell_type": "code",
      "source": [
        "np.percentile(x, 0)  # 최솟값. min"
      ],
      "metadata": {
        "colab": {
          "base_uri": "https://localhost:8080/"
        },
        "id": "EHTZ62T8Ici8",
        "outputId": "e925da44-70cf-4c91-b78d-bf3215969673"
      },
      "execution_count": 40,
      "outputs": [
        {
          "output_type": "execute_result",
          "data": {
            "text/plain": [
              "-24.0"
            ]
          },
          "metadata": {},
          "execution_count": 40
        }
      ]
    },
    {
      "cell_type": "code",
      "source": [
        "np.percentile(x, 25)  # 25% 백분위수, 1사분위수"
      ],
      "metadata": {
        "colab": {
          "base_uri": "https://localhost:8080/"
        },
        "id": "h8tVnPH6Ixcv",
        "outputId": "d4edb28c-974c-42f1-d451-44a0a0656f62"
      },
      "execution_count": 41,
      "outputs": [
        {
          "output_type": "execute_result",
          "data": {
            "text/plain": [
              "0.0"
            ]
          },
          "metadata": {},
          "execution_count": 41
        }
      ]
    },
    {
      "cell_type": "code",
      "source": [
        "np.percentile(x, 50)  # 50% 백분위수, 2사분위수, 중앙값"
      ],
      "metadata": {
        "colab": {
          "base_uri": "https://localhost:8080/"
        },
        "id": "PuT1HTElIza1",
        "outputId": "de7b7f87-c24a-4760-fdae-ba8afa6bd60f"
      },
      "execution_count": 42,
      "outputs": [
        {
          "output_type": "execute_result",
          "data": {
            "text/plain": [
              "5.0"
            ]
          },
          "metadata": {},
          "execution_count": 42
        }
      ]
    },
    {
      "cell_type": "code",
      "source": [
        "np.percentile(x, 75)  # 75% 백분위수, 3사분위수"
      ],
      "metadata": {
        "colab": {
          "base_uri": "https://localhost:8080/"
        },
        "id": "v7wB_7N_I0zM",
        "outputId": "afdc5247-3c06-495c-fe15-d584bf4f352c"
      },
      "execution_count": 43,
      "outputs": [
        {
          "output_type": "execute_result",
          "data": {
            "text/plain": [
              "10.0"
            ]
          },
          "metadata": {},
          "execution_count": 43
        }
      ]
    },
    {
      "cell_type": "code",
      "source": [
        "np.percentile(x, 100)  # 100% 백분위수, 4사분위수, 최댓값"
      ],
      "metadata": {
        "colab": {
          "base_uri": "https://localhost:8080/"
        },
        "id": "JbCd4SqGI20l",
        "outputId": "f46a926c-f257-4f7a-e676-6ed6ffe31c37"
      },
      "execution_count": 44,
      "outputs": [
        {
          "output_type": "execute_result",
          "data": {
            "text/plain": [
              "23.0"
            ]
          },
          "metadata": {},
          "execution_count": 44
        }
      ]
    },
    {
      "cell_type": "markdown",
      "source": [
        "## 시드 설정\n",
        "* 컴퓨터 프로그램에서 발생하는 무작위 수는 사실 엄격한 의미의 무작위 수가 아님\n",
        "* 어떤 특정한 시작 숫자를 정해 주면 컴퓨터가 정해진 알고리즘에 의해 마치 난수처럼 보이는 수열을 생성. 이런 시작 숫자를 시드(seed)라고 함\n",
        "* 일단 생성된 난수는 다음번 난수 생성을 위한 시드값이 됨. 따라서 시드값은 한 번만 정해주면 됨.\n",
        "* 시드는 보통 현재 시각 등을 이용하여 자동으로 정해지지만 사람이 수동으로 설정할 수도 있음 * 특정한 시드값이 사용되면 그 다음에 만들어지는 난수들은 모두 예측할 수 있음\n",
        "* 고정된 결과를 얻기 위해서 실습엔 시드를 설정"
      ],
      "metadata": {
        "id": "ZCEj6C5UJHHc"
      }
    },
    {
      "cell_type": "code",
      "source": [
        "np.random.seed(0)  # 시드값 고정"
      ],
      "metadata": {
        "id": "R9wwclqfI8_9"
      },
      "execution_count": 45,
      "outputs": []
    },
    {
      "cell_type": "markdown",
      "source": [
        "### `rand` : 0과 1 사이의 난수를 발생"
      ],
      "metadata": {
        "id": "OQRCx_xUJf6l"
      }
    },
    {
      "cell_type": "code",
      "source": [
        "np.random.rand(5)  # rand(n) : n개의 길이를 가지는 배열에 각각 0~1 사이의 난수를 채워줌"
      ],
      "metadata": {
        "colab": {
          "base_uri": "https://localhost:8080/"
        },
        "id": "w26duH5TJb7f",
        "outputId": "958633a6-2e22-4c65-e3d2-0a74a2f9c1fd"
      },
      "execution_count": 46,
      "outputs": [
        {
          "output_type": "execute_result",
          "data": {
            "text/plain": [
              "array([0.5488135 , 0.71518937, 0.60276338, 0.54488318, 0.4236548 ])"
            ]
          },
          "metadata": {},
          "execution_count": 46
        }
      ]
    },
    {
      "cell_type": "code",
      "source": [
        "np.random.rand(10)"
      ],
      "metadata": {
        "colab": {
          "base_uri": "https://localhost:8080/"
        },
        "id": "bnSQUYKVJkl8",
        "outputId": "57aed7ca-1088-4b83-c136-6353894d2d7f"
      },
      "execution_count": 47,
      "outputs": [
        {
          "output_type": "execute_result",
          "data": {
            "text/plain": [
              "array([0.64589411, 0.43758721, 0.891773  , 0.96366276, 0.38344152,\n",
              "       0.79172504, 0.52889492, 0.56804456, 0.92559664, 0.07103606])"
            ]
          },
          "metadata": {},
          "execution_count": 47
        }
      ]
    },
    {
      "cell_type": "markdown",
      "source": [
        "## 데이터의 순서 변경"
      ],
      "metadata": {
        "id": "TvJHX9FmJtgQ"
      }
    },
    {
      "cell_type": "markdown",
      "source": [
        "### `shuffle`\n",
        "* 데이터의 순서를 변경\n",
        "* 자체 변환(in-place) 함수 (원본에 영향)"
      ],
      "metadata": {
        "id": "89jdzc8rJyqB"
      }
    },
    {
      "cell_type": "code",
      "source": [
        "x = np.arange(10)\n",
        "x"
      ],
      "metadata": {
        "colab": {
          "base_uri": "https://localhost:8080/"
        },
        "id": "vUHakdiQJpjl",
        "outputId": "72be2cde-243e-494b-9b8f-f21fea7cd77f"
      },
      "execution_count": 48,
      "outputs": [
        {
          "output_type": "execute_result",
          "data": {
            "text/plain": [
              "array([0, 1, 2, 3, 4, 5, 6, 7, 8, 9])"
            ]
          },
          "metadata": {},
          "execution_count": 48
        }
      ]
    },
    {
      "cell_type": "code",
      "source": [
        "np.random.shuffle(x)  # x를 섞어줌 -> x 자체를 섞어버림\n",
        "x"
      ],
      "metadata": {
        "colab": {
          "base_uri": "https://localhost:8080/"
        },
        "id": "ReqSVnNlJ7S0",
        "outputId": "17c70fd5-ca58-4720-f18e-58f97f749441"
      },
      "execution_count": 49,
      "outputs": [
        {
          "output_type": "execute_result",
          "data": {
            "text/plain": [
              "array([5, 1, 8, 2, 6, 7, 0, 3, 4, 9])"
            ]
          },
          "metadata": {},
          "execution_count": 49
        }
      ]
    },
    {
      "cell_type": "markdown",
      "source": [
        "## 데이터 샘플링\n",
        "* 표본선택 혹은 샘플링(sampling) : 이미 있는 데이터 집합에서 일부를 무작위로 선택하는 것"
      ],
      "metadata": {
        "id": "MbQrSKXMKJAg"
      }
    },
    {
      "cell_type": "markdown",
      "source": [
        "### `choice` : 샘플링에 사용\n",
        "```\n",
        "numpy.random.choice(a, size=None, replace=True, p=None)\n",
        "```\n",
        "* a : 배열이면 원래의 데이터, 정수이면 arange(a) 명령으로 데이터 생성\n",
        "* size : 정수. 샘플 숫자\n",
        "* replace : 불리언. True이면 한번 선택한 데이터를 다시 선택 가능 (복원/비복원 추출)\n",
        "* p : 배열. 각 데이터가 선택될 수 있는 확률"
      ],
      "metadata": {
        "id": "gEkehbizKWrq"
      }
    },
    {
      "cell_type": "code",
      "source": [
        "np.random.choice(5, 5, replace=False)  # 5개 중에 5개를 선택 -> 비복원 -> shuffle"
      ],
      "metadata": {
        "colab": {
          "base_uri": "https://localhost:8080/"
        },
        "id": "YvjoHXqIJ9KJ",
        "outputId": "3ed05f67-62ec-4bde-fa58-31144121af9d"
      },
      "execution_count": 50,
      "outputs": [
        {
          "output_type": "execute_result",
          "data": {
            "text/plain": [
              "array([0, 4, 2, 1, 3])"
            ]
          },
          "metadata": {},
          "execution_count": 50
        }
      ]
    },
    {
      "cell_type": "code",
      "source": [
        "np.random.choice(5, 3, replace=False)  # 5개 중에 3개를 선택 -> 비복원"
      ],
      "metadata": {
        "colab": {
          "base_uri": "https://localhost:8080/"
        },
        "id": "knplEnwIKnYh",
        "outputId": "24cde43b-9b7e-4244-f633-2801b4444027"
      },
      "execution_count": 51,
      "outputs": [
        {
          "output_type": "execute_result",
          "data": {
            "text/plain": [
              "array([4, 2, 3])"
            ]
          },
          "metadata": {},
          "execution_count": 51
        }
      ]
    },
    {
      "cell_type": "code",
      "source": [
        "# np.random.choice(5, 10) # 복원, 5개 중에 10개를 선택 (뽑았던 것을 또 뽑는다)\n",
        "np.random.choice(5, 10, replace=True) # 복원, 5개 중에 10개를 선택 (뽑았던 것을 또 뽑는다)"
      ],
      "metadata": {
        "colab": {
          "base_uri": "https://localhost:8080/"
        },
        "id": "4Yd_3i6QKqMw",
        "outputId": "1c74a9cb-218c-4049-b2ec-2955084927b8"
      },
      "execution_count": 52,
      "outputs": [
        {
          "output_type": "execute_result",
          "data": {
            "text/plain": [
              "array([0, 2, 4, 3, 3, 2, 4, 2, 0, 0])"
            ]
          },
          "metadata": {},
          "execution_count": 52
        }
      ]
    },
    {
      "cell_type": "code",
      "source": [
        "# [0, 1, 2, 3, 4]\n",
        "np.random.choice(5, 10, p=[0.1, 0, 0.3, 0.6, 0]) # 복원, 5개 중에 10개를 선택 (뽑았던 것을 또 뽑는다)"
      ],
      "metadata": {
        "colab": {
          "base_uri": "https://localhost:8080/"
        },
        "id": "lkbuDYTuKvBN",
        "outputId": "59dc8d2a-d9ba-46c9-b11c-67a18f4bafde"
      },
      "execution_count": 53,
      "outputs": [
        {
          "output_type": "execute_result",
          "data": {
            "text/plain": [
              "array([2, 2, 2, 2, 3, 3, 3, 3, 0, 3])"
            ]
          },
          "metadata": {},
          "execution_count": 53
        }
      ]
    },
    {
      "cell_type": "markdown",
      "source": [
        "## 난수 생성\n",
        "* `rand` : 0부터 1 사이의 균일 분포\n",
        "* `randn` : 표준 정규 분포\n",
        "* `randint` : 균일 분포의 정수 난수"
      ],
      "metadata": {
        "id": "D8oZhgNLLCgd"
      }
    },
    {
      "cell_type": "markdown",
      "source": [
        "### `rand` : 0부터 1 사이에서 균일한 확률 분포로 실수 난수를 생성\n",
        "* 숫자 인수는 생성할 난수의 크기\n",
        "* 여러 개의 인수를 넣으면 해당 크기를 가진 행렬을 생성"
      ],
      "metadata": {
        "id": "BcH0M0-_LPMP"
      }
    },
    {
      "cell_type": "code",
      "source": [
        "np.random.rand(10)"
      ],
      "metadata": {
        "colab": {
          "base_uri": "https://localhost:8080/"
        },
        "id": "EWqs3z-zK0k_",
        "outputId": "8fa97fe6-7abf-4502-cf70-362f6fd22dd2"
      },
      "execution_count": 54,
      "outputs": [
        {
          "output_type": "execute_result",
          "data": {
            "text/plain": [
              "array([0.65314004, 0.17090959, 0.35815217, 0.75068614, 0.60783067,\n",
              "       0.32504723, 0.03842543, 0.63427406, 0.95894927, 0.65279032])"
            ]
          },
          "metadata": {},
          "execution_count": 54
        }
      ]
    },
    {
      "cell_type": "code",
      "source": [
        "np.random.rand(3, 5)"
      ],
      "metadata": {
        "colab": {
          "base_uri": "https://localhost:8080/"
        },
        "id": "DJTNzp8oLbVj",
        "outputId": "342cb00d-8cb8-44fa-8e46-c7cbcd77627a"
      },
      "execution_count": 55,
      "outputs": [
        {
          "output_type": "execute_result",
          "data": {
            "text/plain": [
              "array([[0.63505887, 0.99529957, 0.58185033, 0.41436859, 0.4746975 ],\n",
              "       [0.6235101 , 0.33800761, 0.67475232, 0.31720174, 0.77834548],\n",
              "       [0.94957105, 0.66252687, 0.01357164, 0.6228461 , 0.67365963]])"
            ]
          },
          "metadata": {},
          "execution_count": 55
        }
      ]
    },
    {
      "cell_type": "markdown",
      "source": [
        "### `randn` : 기댓값이 0이고 표준편차가 1인 표준 정규 분포(standard normal distribution)를 따르는 난수를 생성"
      ],
      "metadata": {
        "id": "HdWD5uVkLjQt"
      }
    },
    {
      "cell_type": "code",
      "source": [],
      "metadata": {
        "id": "AlJYbewHLeZB"
      },
      "execution_count": 55,
      "outputs": []
    },
    {
      "cell_type": "markdown",
      "source": [],
      "metadata": {
        "id": "3mIlRmzcVBNc"
      }
    },
    {
      "cell_type": "code",
      "source": [],
      "metadata": {
        "colab": {
          "base_uri": "https://localhost:8080/"
        },
        "id": "gbDMC1OxLt3f",
        "outputId": "d2313bfc-bdfc-499f-8254-81c49a5eca81"
      },
      "execution_count": null,
      "outputs": [
        {
          "output_type": "execute_result",
          "data": {
            "text/plain": [
              "array([[-0.22403878, -0.42018339,  0.99982969,  0.43103415, -0.65091287],\n",
              "       [-1.49874039, -1.23063497,  0.19400719, -0.99838235, -0.3676376 ],\n",
              "       [ 1.73719932,  0.59361275, -0.54236358, -1.71967238, -0.57890879]])"
            ]
          },
          "metadata": {},
          "execution_count": 320
        }
      ]
    },
    {
      "cell_type": "markdown",
      "source": [
        "### `randint`\n",
        "```\n",
        "numpy.random.randint(low, high=None, size=None)\n",
        "```\n",
        "만약 `high`를 입력하지 않으면 0과 `low`사이의 숫자, `high`를 입력하면 `low`와 `high`는 사이의 숫자를 출력. `size`는 난수의 숫자"
      ],
      "metadata": {
        "id": "FDtGkcnjLzTM"
      }
    },
    {
      "cell_type": "code",
      "source": [],
      "metadata": {
        "colab": {
          "base_uri": "https://localhost:8080/"
        },
        "id": "H5eTlhBGLy_D",
        "outputId": "d3f75108-fa7f-45a9-bd02-c5d292ea9064"
      },
      "execution_count": null,
      "outputs": [
        {
          "output_type": "execute_result",
          "data": {
            "text/plain": [
              "array([2, 8, 4, 3, 0, 4, 3, 6, 9, 8])"
            ]
          },
          "metadata": {},
          "execution_count": 321
        }
      ]
    },
    {
      "cell_type": "code",
      "source": [],
      "metadata": {
        "colab": {
          "base_uri": "https://localhost:8080/"
        },
        "id": "xlpHLyNALuyj",
        "outputId": "e220463a-b80f-4110-e831-9c837ce5b809"
      },
      "execution_count": null,
      "outputs": [
        {
          "output_type": "execute_result",
          "data": {
            "text/plain": [
              "array([10, 18, 15, 19, 10, 19, 16, 15, 13, 11])"
            ]
          },
          "metadata": {},
          "execution_count": 322
        }
      ]
    },
    {
      "cell_type": "code",
      "source": [],
      "metadata": {
        "colab": {
          "base_uri": "https://localhost:8080/"
        },
        "id": "RwOU04I2ME1f",
        "outputId": "62400551-9f73-4914-bc44-2b7a1c43b002"
      },
      "execution_count": null,
      "outputs": [
        {
          "output_type": "execute_result",
          "data": {
            "text/plain": [
              "array([[18, 10, 14, 19, 16],\n",
              "       [15, 17, 18, 18, 19],\n",
              "       [12, 18, 16, 16, 19]])"
            ]
          },
          "metadata": {},
          "execution_count": 323
        }
      ]
    },
    {
      "cell_type": "markdown",
      "source": [
        "## 💡 연습문제 7\n",
        "1. 동전을 10번 던져 앞면(숫자 1)과 뒷면(숫자 0)이 나오는 가상 실험을 작성하라\n",
        "2. 주사위를 100번 던져서 나오는 숫자의 평균\n",
        "3. 가격이 10,000원인 주식이 있다. 이 주식의 일간 수익률(%)은 기댓값이 0%이고 표준편차가 1%인 표준 정규 분포를 따른다고 하자. 250일 동안의 주가를 무작위로 생성하라"
      ],
      "metadata": {
        "id": "dCofCh17MOVI"
      }
    },
    {
      "cell_type": "code",
      "source": [
        "# 1.\n"
      ],
      "metadata": {
        "colab": {
          "base_uri": "https://localhost:8080/"
        },
        "id": "wSVBjqWJMGJ3",
        "outputId": "243a5810-26df-44c7-9da3-7f1cca9ff461"
      },
      "execution_count": null,
      "outputs": [
        {
          "output_type": "execute_result",
          "data": {
            "text/plain": [
              "array(['TAIL', 'TAIL', 'HEAD', 'HEAD', 'HEAD', 'HEAD', 'TAIL', 'TAIL',\n",
              "       'TAIL', 'HEAD'], dtype='<U4')"
            ]
          },
          "metadata": {},
          "execution_count": 327
        }
      ]
    },
    {
      "cell_type": "code",
      "source": [
        "# 2.\n"
      ],
      "metadata": {
        "colab": {
          "base_uri": "https://localhost:8080/"
        },
        "id": "rpstIcwsNB-3",
        "outputId": "5934b204-7c5e-4862-9c81-0a618cdf204a"
      },
      "execution_count": null,
      "outputs": [
        {
          "output_type": "execute_result",
          "data": {
            "text/plain": [
              "3.66"
            ]
          },
          "metadata": {},
          "execution_count": 342
        }
      ]
    },
    {
      "cell_type": "code",
      "source": [
        "# 3.\n"
      ],
      "metadata": {
        "colab": {
          "base_uri": "https://localhost:8080/"
        },
        "id": "zrCTnmQBNjbm",
        "outputId": "352751d5-c688-4dbd-c911-cd8e5f962911"
      },
      "execution_count": null,
      "outputs": [
        {
          "output_type": "execute_result",
          "data": {
            "text/plain": [
              "array([-0.00317543, -0.01632423, -0.00067134,  0.01489356,  0.00521304,\n",
              "        0.00611927, -0.01341497,  0.00476898,  0.0014845 ,  0.00529045,\n",
              "        0.00422629, -0.01359781, -0.00041401, -0.00757871, -0.00050084,\n",
              "       -0.00897401,  0.0131247 , -0.00858972, -0.00898942,  0.00074586,\n",
              "       -0.01077099, -0.00424663, -0.00829965,  0.01411172,  0.00785804,\n",
              "       -0.0005747 , -0.00391217,  0.00940918,  0.00405204,  0.00498052,\n",
              "       -0.00026192, -0.0168823 , -0.00112466, -0.0053249 ,  0.00645055,\n",
              "        0.01011842, -0.00657951,  0.00468385,  0.01735879, -0.00667713,\n",
              "        0.01681922, -0.00852586,  0.0002296 , -0.00011146,  0.00011499,\n",
              "       -0.00837678, -0.00591183, -0.0066772 ,  0.00326963,  0.00330035,\n",
              "        0.02225944,  0.01370989, -0.00509843,  0.0032487 ,  0.00997118,\n",
              "        0.00030602, -0.00069642,  0.00051575,  0.00867277, -0.00848321,\n",
              "       -0.00325669,  0.00470433,  0.00311447,  0.00239583, -0.00369801,\n",
              "        0.00972536,  0.02133868,  0.00406415, -0.00193177,  0.0075574 ,\n",
              "       -0.00539133, -0.0074969 ,  0.00032809, -0.02582797, -0.0115395 ,\n",
              "       -0.00347962, -0.01353389, -0.01032643, -0.00436748, -0.01642965,\n",
              "       -0.00406072, -0.0053527 ,  0.00025405,  0.01154184,  0.00172504,\n",
              "        0.00021062,  0.00099454,  0.00227393, -0.01016739, -0.00114775,\n",
              "        0.00308751, -0.0137076 ,  0.00865653,  0.01081376, -0.00631376,\n",
              "       -0.00241338, -0.0087819 ,  0.0069938 , -0.01061222, -0.00222477,\n",
              "       -0.0085892 ,  0.00050954, -0.01794229,  0.01326462, -0.00964606,\n",
              "        0.00059895, -0.00212523, -0.00762115, -0.0088778 ,  0.00936399,\n",
              "       -0.00525641,  0.0027117 , -0.00801497, -0.00647181,  0.00472247,\n",
              "        0.00930408, -0.00175316, -0.0142192 ,  0.01997956, -0.00856549,\n",
              "       -0.01541587,  0.02594425, -0.00404032, -0.01461733, -0.0068344 ,\n",
              "        0.00367545,  0.00190312, -0.00851729,  0.01822724, -0.0052158 ,\n",
              "       -0.01184687,  0.00960693,  0.01329063, -0.00817493, -0.01401347,\n",
              "        0.01030438, -0.02047324, -0.01226622,  0.00967446, -0.00055353,\n",
              "       -0.00263937,  0.00352817, -0.00152774, -0.01298687,  0.01276075,\n",
              "        0.01325014,  0.00205333,  0.00045134,  0.02339625, -0.00276433,\n",
              "       -0.00259577,  0.00364481,  0.01471322,  0.01592771, -0.00258573,\n",
              "        0.00308331, -0.01378083, -0.00311976, -0.0084029 , -0.01006832,\n",
              "        0.01681577, -0.00792287, -0.00531606,  0.00365849,  0.01297825,\n",
              "        0.00481115,  0.02759355, -0.00074668,  0.00258716,  0.00275601,\n",
              "        0.01435049,  0.00507239, -0.0011623 , -0.00947489,  0.00244443,\n",
              "        0.01401345, -0.00410382,  0.00528944,  0.00246148,  0.0086352 ,\n",
              "       -0.00804754,  0.02346647, -0.01279161, -0.00365551,  0.00938093,\n",
              "        0.00296733,  0.00829986, -0.00496102, -0.00074805,  0.00012232,\n",
              "        0.0156926 ,  0.00690429,  0.00796672, -0.00657926,  0.00968883,\n",
              "        0.00225582,  0.01389145,  0.0201406 , -0.00306766, -0.00406303,\n",
              "       -0.00864045, -0.0014358 , -0.00382025,  0.00359504, -0.00144567,\n",
              "       -0.00361599,  0.01064585, -0.0093788 ,  0.00433108, -0.00405942,\n",
              "        0.00724369,  0.01385262, -0.00303098,  0.00441033,  0.00178793,\n",
              "       -0.00799422,  0.00240788,  0.00289121,  0.00412871, -0.00198399,\n",
              "        0.00094192, -0.01147611, -0.00358114,  0.00555963,  0.00892474,\n",
              "       -0.00422315,  0.00104714,  0.00228053,  0.0020148 ,  0.00540774,\n",
              "       -0.01818078, -0.00049324,  0.00239034, -0.0100033 ,  0.01673986,\n",
              "        0.00161559,  0.01563405, -0.00790523, -0.009073  ,  0.00224252,\n",
              "       -0.01678688,  0.00214966,  0.00097219,  0.01015665,  0.00701041,\n",
              "       -0.00417477, -0.01097497,  0.01712305, -0.00792115, -0.01045525])"
            ]
          },
          "metadata": {},
          "execution_count": 339
        }
      ]
    },
    {
      "cell_type": "code",
      "source": [],
      "metadata": {
        "colab": {
          "base_uri": "https://localhost:8080/"
        },
        "id": "C7CgIfRJN7lQ",
        "outputId": "631f257c-b481-4dd8-e915-d4f28501b7fa"
      },
      "execution_count": null,
      "outputs": [
        {
          "output_type": "execute_result",
          "data": {
            "text/plain": [
              "array([ 9968.24569061,  9805.52172515,  9798.93887103,  9944.87995133,\n",
              "        9996.72298327, 10057.89564959,  9922.96930879,  9970.29178757,\n",
              "        9985.09264399, 10037.91830117, 10080.34141693,  9943.27087728,\n",
              "        9939.15428244,  9863.82832836,  9858.88811928,  9770.41436592,\n",
              "        9898.64815922,  9813.6215047 ,  9725.40272392,  9732.65655233,\n",
              "        9627.82619918,  9586.94035449,  9507.37214356,  9641.53752326,\n",
              "        9717.30109408,  9711.71660794,  9673.72271651,  9764.74447753,\n",
              "        9804.31162059,  9853.14223038,  9850.56147198,  9684.2613353 ,\n",
              "        9673.36983564,  9621.86011642,  9683.9264325 ,  9781.91250933,\n",
              "        9717.55231377,  9763.06789394,  9932.54293905,  9866.22208637,\n",
              "       10032.16422056,  9946.63140825,  9948.91513051,  9947.80626305,\n",
              "        9948.95015133,  9865.60998051,  9807.28616123,  9741.80092199,\n",
              "        9773.65296712,  9805.90945388, 10024.18353955, 10161.61399384,\n",
              "       10109.8056916 , 10142.64937851, 10243.78355919, 10246.91834384,\n",
              "       10239.78222817, 10245.06338999, 10333.91643038, 10246.25169649,\n",
              "       10212.88278302, 10260.92756867, 10292.8849271 , 10317.54490488,\n",
              "       10279.39050348, 10379.36125504, 10600.84314912, 10643.92661814,\n",
              "       10623.36503178, 10703.65008136, 10645.94321045, 10566.1316021 ,\n",
              "       10569.59821755, 10296.60699067, 10177.78925686, 10142.37443247,\n",
              "       10005.10866694,  9901.79160246,  9858.54569226,  9696.57320809,\n",
              "        9657.19815908,  9605.50605861,  9607.94635744,  9718.83973996,\n",
              "        9735.60516774,  9737.65568298,  9747.34021556,  9769.50496298,\n",
              "        9670.17463024,  9659.07565591,  9688.89817194,  9556.08663305,\n",
              "        9638.8091763 ,  9743.04094874,  9681.52572764,  9658.16054727,\n",
              "        9573.34351405,  9640.29761022,  9537.9926234 ,  9516.77278258,\n",
              "        9435.03132657,  9439.83887857,  9270.46652622,  9393.43570876,\n",
              "        9302.82602446,  9308.39792263,  9288.61543195,  9217.82554578,\n",
              "        9135.99152156,  9221.5408131 ,  9173.06865128,  9197.94327848,\n",
              "        9124.22204958,  9065.17177868,  9107.98179405,  9192.72323049,\n",
              "        9176.60687885,  9046.12288209,  9226.8604442 ,  9147.82783489,\n",
              "        9006.80607364,  9240.48086499,  9203.14633819,  9068.62093982,\n",
              "        9006.64237801,  9039.74583238,  9056.94951347,  8979.80883009,\n",
              "        9143.48592488,  9095.79536043,  8988.03869251,  9074.38618688,\n",
              "        9194.99048224,  9119.82206972,  8992.02169002,  9084.67892253,\n",
              "        8898.68614577,  8789.53293411,  8874.56693209,  8869.65463316,\n",
              "        8846.2443019 ,  8877.45532084,  8863.89283965,  8748.77864028,\n",
              "        8860.41964758,  8977.82145306,  8996.25584402,  9000.31621552,\n",
              "        9210.88984632,  9185.42792146,  9161.5846649 ,  9194.97692313,\n",
              "        9330.26463747,  9478.87436392,  9454.36458902,  9483.51534916,\n",
              "        9352.82459204,  9323.64601389,  9245.30031193,  9152.21569279,\n",
              "        9306.11722091,  9232.38609543,  9183.3061855 ,  9216.90319987,\n",
              "        9336.52249843,  9381.44192045,  9640.30921785,  9633.11099386,\n",
              "        9658.03343571,  9684.65104095,  9823.63056633,  9873.45984697,\n",
              "        9861.98395417,  9768.54278098,  9792.42134455,  9929.64693492,\n",
              "        9888.89747172,  9941.20416383,  9965.67421805, 10051.72977401,\n",
              "        9970.83810266, 10204.81847891, 10074.28240989, 10037.45576073,\n",
              "       10131.61638452, 10161.68025124, 10246.02079085, 10195.19004257,\n",
              "       10187.56353242, 10188.80967353, 10348.69854894, 10420.14896737,\n",
              "       10503.16338784, 10434.06033537, 10535.15413445, 10558.91951041,\n",
              "       10705.59824618, 10921.2154348 , 10887.71288352, 10843.47576524,\n",
              "       10749.78325603, 10734.34876972, 10693.34082564, 10731.78385637,\n",
              "       10716.26925805, 10677.51930548, 10791.19058892, 10689.98214568,\n",
              "       10736.28130854, 10692.69826276, 10770.1528013 , 10919.34758658,\n",
              "       10886.25123476, 10934.26318507, 10953.81286756, 10866.2456339 ,\n",
              "       10892.41019616, 10923.90238756, 10969.00399297, 10947.24161006,\n",
              "       10957.55306875, 10831.80299044, 10793.01277931, 10853.01790238,\n",
              "       10949.87825314, 10903.63529406, 10915.05292993, 10939.94507107,\n",
              "       10961.98686657, 11021.26639597, 10820.89121704, 10815.55391307,\n",
              "       10841.40672108, 10732.95683939, 10912.62500283, 10930.25535982,\n",
              "       11101.13949076, 11013.3824274 , 10913.45799525, 10937.93166719,\n",
              "       10754.31788116, 10777.43596411, 10787.91370458, 10897.48279868,\n",
              "       10973.87865825, 10928.06520044, 10808.13005044, 10993.19822562,\n",
              "       10906.11945123, 10792.09329415])"
            ]
          },
          "metadata": {},
          "execution_count": 340
        }
      ]
    },
    {
      "cell_type": "markdown",
      "source": [
        "## 정수 데이터 카운팅\n",
        "* 만약 난수가 정수값이면 unique 명령이나 bincount 명령으로 데이터 값을 분석"
      ],
      "metadata": {
        "id": "zc2junJdO2d8"
      }
    },
    {
      "cell_type": "markdown",
      "source": [
        "### `unique`\n",
        "* unique 함수는 데이터에서 중복된 값을 제거하고 중복되지 않는 값의 리스트를 출력\n",
        "* return_counts 인수를 True 로 설정하면 각 값을 가진 데이터 갯수도 출력\n"
      ],
      "metadata": {
        "id": "NQWG8zU8PJtG"
      }
    },
    {
      "cell_type": "code",
      "source": [],
      "metadata": {
        "colab": {
          "base_uri": "https://localhost:8080/"
        },
        "id": "Zy46ohsVPDJv",
        "outputId": "15bdfdae-8b16-4d23-e9b3-bc7aa8beb424"
      },
      "execution_count": null,
      "outputs": [
        {
          "output_type": "execute_result",
          "data": {
            "text/plain": [
              "array([ 2, 11, 34])"
            ]
          },
          "metadata": {},
          "execution_count": 343
        }
      ]
    },
    {
      "cell_type": "code",
      "source": [],
      "metadata": {
        "id": "9l5BuLbwPPQF"
      },
      "execution_count": null,
      "outputs": []
    },
    {
      "cell_type": "code",
      "source": [],
      "metadata": {
        "colab": {
          "base_uri": "https://localhost:8080/"
        },
        "id": "kMLRdBasPQ4L",
        "outputId": "9bfdb09c-119f-45fb-cc5c-1dfcfe0cf439"
      },
      "execution_count": null,
      "outputs": [
        {
          "output_type": "execute_result",
          "data": {
            "text/plain": [
              "array(['a', 'b', 'c'], dtype='<U1')"
            ]
          },
          "metadata": {},
          "execution_count": 345
        }
      ]
    },
    {
      "cell_type": "code",
      "source": [],
      "metadata": {
        "colab": {
          "base_uri": "https://localhost:8080/"
        },
        "id": "Kpx6OGmoPRi1",
        "outputId": "aaf9d7d6-a932-48e8-83a3-537b100eacc8"
      },
      "execution_count": null,
      "outputs": [
        {
          "output_type": "execute_result",
          "data": {
            "text/plain": [
              "array([2, 2, 1])"
            ]
          },
          "metadata": {},
          "execution_count": 346
        }
      ]
    },
    {
      "cell_type": "markdown",
      "source": [
        "### `bincount`\n",
        "* `unique` 함수는 데이터에 존재하는 값에 대해서만 갯수를 세므로 데이터 값이 나올 수 있음에도 불구하고 데이터가 하나도 없는 경우에는 정보를 주지 않음\n",
        "* 따라서 데이터가 주사위를 던졌을 때 나오는 수처럼 특정 범위안의 수인 경우에는 `bincount` 함수에 `minlength` 인수를 설정하여 쓰는 것이 더 편리\n",
        "* `bincount` 함수는 0 부터 `minlength` - 1 까지의 숫자에 대해 각각 카운트\n",
        "* 데이터가 없을 경우에는 카운트 값이 0이 됨"
      ],
      "metadata": {
        "id": "GihAHqezPWii"
      }
    },
    {
      "cell_type": "code",
      "source": [],
      "metadata": {
        "colab": {
          "base_uri": "https://localhost:8080/"
        },
        "id": "SWLVdyPEPmqk",
        "outputId": "b2249dd1-8f85-48ef-f4db-be0ab4eda4b5"
      },
      "execution_count": null,
      "outputs": [
        {
          "output_type": "execute_result",
          "data": {
            "text/plain": [
              "array([0, 2, 3, 1, 0, 0])"
            ]
          },
          "metadata": {},
          "execution_count": 347
        }
      ]
    },
    {
      "cell_type": "markdown",
      "source": [
        "## 시드 설정\n",
        "* 컴퓨터 프로그램에서 발생하는 무작위 수는 사실 엄격한 의미의 무작위 수가 아님\n",
        "* 어떤 특정한 시작 숫자를 정해 주면 컴퓨터가 정해진 알고리즘에 의해 마치 난수처럼 보이는 수열을 생성. 이런 시작 숫자를 시드(seed)라고 함\n",
        "* 일단 생성된 난수는 다음번 난수 생성을 위한 시드값이 됨. 따라서 시드값은 한 번만 정해주면 됨.\n",
        "* 시드는 보통 현재 시각 등을 이용하여 자동으로 정해지지만 사람이 수동으로 설정할 수도 있음 * 특정한 시드값이 사용되면 그 다음에 만들어지는 난수들은 모두 예측할 수 있음\n",
        "* 고정된 결과를 얻기 위해서 실습엔 시드를 설정"
      ],
      "metadata": {
        "id": "vbycMmG0VH0G"
      }
    },
    {
      "cell_type": "code",
      "source": [
        "np.random.seed(0)  # 시드값 고정"
      ],
      "metadata": {
        "id": "026sIkrLVH0G"
      },
      "execution_count": null,
      "outputs": []
    },
    {
      "cell_type": "markdown",
      "source": [
        "### `rand` : 0과 1 사이의 난수를 발생"
      ],
      "metadata": {
        "id": "lGj9J5rLVH0H"
      }
    },
    {
      "cell_type": "code",
      "source": [
        "np.random.rand(5)  # rand(n) : n개의 길이를 가지는 배열에 각각 0~1 사이의 난수를 채워줌"
      ],
      "metadata": {
        "colab": {
          "base_uri": "https://localhost:8080/"
        },
        "outputId": "7f3fca87-89ed-4089-e697-1ac25432e01d",
        "id": "F8JY068PVH0H"
      },
      "execution_count": null,
      "outputs": [
        {
          "output_type": "execute_result",
          "data": {
            "text/plain": [
              "array([0.5488135 , 0.71518937, 0.60276338, 0.54488318, 0.4236548 ])"
            ]
          },
          "metadata": {},
          "execution_count": 16
        }
      ]
    },
    {
      "cell_type": "code",
      "source": [
        "np.random.rand(10)"
      ],
      "metadata": {
        "colab": {
          "base_uri": "https://localhost:8080/"
        },
        "outputId": "97f35d27-7773-4f1a-fa51-223ee18c34e5",
        "id": "OTIrwRRuVH0H"
      },
      "execution_count": null,
      "outputs": [
        {
          "output_type": "execute_result",
          "data": {
            "text/plain": [
              "array([0.64589411, 0.43758721, 0.891773  , 0.96366276, 0.38344152,\n",
              "       0.79172504, 0.52889492, 0.56804456, 0.92559664, 0.07103606])"
            ]
          },
          "metadata": {},
          "execution_count": 17
        }
      ]
    },
    {
      "cell_type": "markdown",
      "source": [
        "## 데이터의 순서 변경"
      ],
      "metadata": {
        "id": "v4NjnD6UVH0H"
      }
    },
    {
      "cell_type": "markdown",
      "source": [
        "### `shuffle`\n",
        "* 데이터의 순서를 변경\n",
        "* 자체 변환(in-place) 함수 (원본에 영향)"
      ],
      "metadata": {
        "id": "TO9e65I7VH0H"
      }
    },
    {
      "cell_type": "code",
      "source": [
        "x = np.arange(10)\n",
        "x"
      ],
      "metadata": {
        "colab": {
          "base_uri": "https://localhost:8080/"
        },
        "outputId": "758f8564-d64d-4152-bde4-c20259ec0ea9",
        "id": "-X903YIGVH0H"
      },
      "execution_count": null,
      "outputs": [
        {
          "output_type": "execute_result",
          "data": {
            "text/plain": [
              "array([0, 1, 2, 3, 4, 5, 6, 7, 8, 9])"
            ]
          },
          "metadata": {},
          "execution_count": 18
        }
      ]
    },
    {
      "cell_type": "code",
      "source": [
        "np.random.shuffle(x)  # x를 섞어줌 -> x 자체를 섞어버림\n",
        "x"
      ],
      "metadata": {
        "colab": {
          "base_uri": "https://localhost:8080/"
        },
        "outputId": "3bdaa35d-3935-4deb-d59b-da845182fbe2",
        "id": "QekVqwphVH0I"
      },
      "execution_count": null,
      "outputs": [
        {
          "output_type": "execute_result",
          "data": {
            "text/plain": [
              "array([5, 1, 8, 2, 6, 7, 0, 3, 4, 9])"
            ]
          },
          "metadata": {},
          "execution_count": 19
        }
      ]
    },
    {
      "cell_type": "markdown",
      "source": [
        "## 데이터 샘플링\n",
        "* 표본선택 혹은 샘플링(sampling) : 이미 있는 데이터 집합에서 일부를 무작위로 선택하는 것"
      ],
      "metadata": {
        "id": "wRL7wLE0VH0I"
      }
    },
    {
      "cell_type": "markdown",
      "source": [
        "### `choice` : 샘플링에 사용\n",
        "```\n",
        "numpy.random.choice(a, size=None, replace=True, p=None)\n",
        "```\n",
        "* a : 배열이면 원래의 데이터, 정수이면 arange(a) 명령으로 데이터 생성\n",
        "* size : 정수. 샘플 숫자\n",
        "* replace : 불리언. True이면 한번 선택한 데이터를 다시 선택 가능 (복원/비복원 추출)\n",
        "* p : 배열. 각 데이터가 선택될 수 있는 확률"
      ],
      "metadata": {
        "id": "viLMnSGfVH0I"
      }
    },
    {
      "cell_type": "code",
      "source": [
        "np.random.choice(5, 5, replace=False)  # 5개 중에 5개를 선택 -> 비복원 -> shuffle"
      ],
      "metadata": {
        "colab": {
          "base_uri": "https://localhost:8080/"
        },
        "outputId": "357ca240-0a76-4c48-9a8f-d6e85e1ff124",
        "id": "HnPk--l6VH0I"
      },
      "execution_count": null,
      "outputs": [
        {
          "output_type": "execute_result",
          "data": {
            "text/plain": [
              "array([0, 4, 2, 1, 3])"
            ]
          },
          "metadata": {},
          "execution_count": 20
        }
      ]
    },
    {
      "cell_type": "code",
      "source": [
        "np.random.choice(5, 3, replace=False)  # 5개 중에 3개를 선택 -> 비복원"
      ],
      "metadata": {
        "colab": {
          "base_uri": "https://localhost:8080/"
        },
        "outputId": "cb95f56f-108d-4d41-c179-dc6b0e041ce4",
        "id": "nRU0ANPFVH0I"
      },
      "execution_count": null,
      "outputs": [
        {
          "output_type": "execute_result",
          "data": {
            "text/plain": [
              "array([4, 2, 3])"
            ]
          },
          "metadata": {},
          "execution_count": 21
        }
      ]
    },
    {
      "cell_type": "code",
      "source": [
        "# np.random.choice(5, 10) # 복원, 5개 중에 10개를 선택 (뽑았던 것을 또 뽑는다)\n",
        "np.random.choice(5, 10, replace=True) # 복원, 5개 중에 10개를 선택 (뽑았던 것을 또 뽑는다)"
      ],
      "metadata": {
        "colab": {
          "base_uri": "https://localhost:8080/"
        },
        "outputId": "112cf876-f042-4888-b094-b89abd9d0ac9",
        "id": "QSLnfLX0VH0J"
      },
      "execution_count": null,
      "outputs": [
        {
          "output_type": "execute_result",
          "data": {
            "text/plain": [
              "array([0, 2, 4, 3, 3, 2, 4, 2, 0, 0])"
            ]
          },
          "metadata": {},
          "execution_count": 22
        }
      ]
    },
    {
      "cell_type": "code",
      "source": [
        "# [0, 1, 2, 3, 4]\n",
        "np.random.choice(5, 10, p=[0.1, 0, 0.3, 0.6, 0]) # 복원, 5개 중에 10개를 선택 (뽑았던 것을 또 뽑는다)"
      ],
      "metadata": {
        "colab": {
          "base_uri": "https://localhost:8080/"
        },
        "outputId": "337f87fb-46d7-4124-8651-ef752621ab61",
        "id": "kAQtZEIzVH0J"
      },
      "execution_count": null,
      "outputs": [
        {
          "output_type": "execute_result",
          "data": {
            "text/plain": [
              "array([2, 2, 2, 2, 3, 3, 3, 3, 0, 3])"
            ]
          },
          "metadata": {},
          "execution_count": 23
        }
      ]
    },
    {
      "cell_type": "markdown",
      "source": [
        "## 난수 생성\n",
        "* `rand` : 0부터 1 사이의 균일 분포\n",
        "* `randn` : 표준 정규 분포\n",
        "* `randint` : 균일 분포의 정수 난수"
      ],
      "metadata": {
        "id": "w2DVVrypVH0J"
      }
    },
    {
      "cell_type": "markdown",
      "source": [
        "### `rand` : 0부터 1 사이에서 균일한 확률 분포로 실수 난수를 생성\n",
        "* 숫자 인수는 생성할 난수의 크기\n",
        "* 여러 개의 인수를 넣으면 해당 크기를 가진 행렬을 생성"
      ],
      "metadata": {
        "id": "NBq2WkVWVH0J"
      }
    },
    {
      "cell_type": "code",
      "source": [
        "np.random.rand(10)"
      ],
      "metadata": {
        "colab": {
          "base_uri": "https://localhost:8080/"
        },
        "outputId": "fbd23445-5b29-4b72-ebff-f0b70b3ac8a4",
        "id": "CkcP-m4FVH0J"
      },
      "execution_count": null,
      "outputs": [
        {
          "output_type": "execute_result",
          "data": {
            "text/plain": [
              "array([0.65314004, 0.17090959, 0.35815217, 0.75068614, 0.60783067,\n",
              "       0.32504723, 0.03842543, 0.63427406, 0.95894927, 0.65279032])"
            ]
          },
          "metadata": {},
          "execution_count": 24
        }
      ]
    },
    {
      "cell_type": "code",
      "source": [
        "np.random.rand(3, 5)"
      ],
      "metadata": {
        "colab": {
          "base_uri": "https://localhost:8080/"
        },
        "outputId": "ba1dff93-def8-4c95-9500-84cfe002a878",
        "id": "_UyT1wabVH0J"
      },
      "execution_count": null,
      "outputs": [
        {
          "output_type": "execute_result",
          "data": {
            "text/plain": [
              "array([[0.63505887, 0.99529957, 0.58185033, 0.41436859, 0.4746975 ],\n",
              "       [0.6235101 , 0.33800761, 0.67475232, 0.31720174, 0.77834548],\n",
              "       [0.94957105, 0.66252687, 0.01357164, 0.6228461 , 0.67365963]])"
            ]
          },
          "metadata": {},
          "execution_count": 25
        }
      ]
    },
    {
      "cell_type": "markdown",
      "source": [
        "### `randn` : 기댓값이 0이고 표준편차가 1인 표준 정규 분포(standard normal distribution)를 따르는 난수를 생성"
      ],
      "metadata": {
        "id": "MSRkETEgVH0J"
      }
    },
    {
      "cell_type": "code",
      "source": [],
      "metadata": {
        "colab": {
          "base_uri": "https://localhost:8080/"
        },
        "outputId": "c6da08b5-d152-48b1-90a0-29fbed9e9823",
        "id": "ABhmldl6VH0K"
      },
      "execution_count": null,
      "outputs": [
        {
          "output_type": "execute_result",
          "data": {
            "text/plain": [
              "array([-0.04411241, -0.36326702, -0.01234481,  0.04212149,  1.95929589,\n",
              "       -0.1984257 ,  0.33053441, -1.43582841,  0.02752832,  1.12060466])"
            ]
          },
          "metadata": {},
          "execution_count": 319
        }
      ]
    },
    {
      "cell_type": "code",
      "source": [],
      "metadata": {
        "colab": {
          "base_uri": "https://localhost:8080/"
        },
        "outputId": "d2313bfc-bdfc-499f-8254-81c49a5eca81",
        "id": "EkvFm1XNVH0K"
      },
      "execution_count": null,
      "outputs": [
        {
          "output_type": "execute_result",
          "data": {
            "text/plain": [
              "array([[-0.22403878, -0.42018339,  0.99982969,  0.43103415, -0.65091287],\n",
              "       [-1.49874039, -1.23063497,  0.19400719, -0.99838235, -0.3676376 ],\n",
              "       [ 1.73719932,  0.59361275, -0.54236358, -1.71967238, -0.57890879]])"
            ]
          },
          "metadata": {},
          "execution_count": 320
        }
      ]
    },
    {
      "cell_type": "markdown",
      "source": [
        "### `randint`\n",
        "```\n",
        "numpy.random.randint(low, high=None, size=None)\n",
        "```\n",
        "만약 `high`를 입력하지 않으면 0과 `low`사이의 숫자, `high`를 입력하면 `low`와 `high`는 사이의 숫자를 출력. `size`는 난수의 숫자"
      ],
      "metadata": {
        "id": "_DPwaXWqVH0K"
      }
    },
    {
      "cell_type": "code",
      "source": [],
      "metadata": {
        "colab": {
          "base_uri": "https://localhost:8080/"
        },
        "outputId": "d3f75108-fa7f-45a9-bd02-c5d292ea9064",
        "id": "ZR2zep54VH0K"
      },
      "execution_count": null,
      "outputs": [
        {
          "output_type": "execute_result",
          "data": {
            "text/plain": [
              "array([2, 8, 4, 3, 0, 4, 3, 6, 9, 8])"
            ]
          },
          "metadata": {},
          "execution_count": 321
        }
      ]
    },
    {
      "cell_type": "code",
      "source": [],
      "metadata": {
        "colab": {
          "base_uri": "https://localhost:8080/"
        },
        "outputId": "e220463a-b80f-4110-e831-9c837ce5b809",
        "id": "AjoKPWcaVH0K"
      },
      "execution_count": null,
      "outputs": [
        {
          "output_type": "execute_result",
          "data": {
            "text/plain": [
              "array([10, 18, 15, 19, 10, 19, 16, 15, 13, 11])"
            ]
          },
          "metadata": {},
          "execution_count": 322
        }
      ]
    },
    {
      "cell_type": "code",
      "source": [],
      "metadata": {
        "colab": {
          "base_uri": "https://localhost:8080/"
        },
        "outputId": "62400551-9f73-4914-bc44-2b7a1c43b002",
        "id": "fmtj_OPBVH0K"
      },
      "execution_count": null,
      "outputs": [
        {
          "output_type": "execute_result",
          "data": {
            "text/plain": [
              "array([[18, 10, 14, 19, 16],\n",
              "       [15, 17, 18, 18, 19],\n",
              "       [12, 18, 16, 16, 19]])"
            ]
          },
          "metadata": {},
          "execution_count": 323
        }
      ]
    },
    {
      "cell_type": "markdown",
      "source": [
        "## 💡 연습문제 7\n",
        "1. 동전을 10번 던져 앞면(숫자 1)과 뒷면(숫자 0)이 나오는 가상 실험을 작성하라\n",
        "2. 주사위를 100번 던져서 나오는 숫자의 평균\n",
        "3. 가격이 10,000원인 주식이 있다. 이 주식의 일간 수익률(%)은 기댓값이 0%이고 표준편차가 1%인 표준 정규 분포를 따른다고 하자. 250일 동안의 주가를 무작위로 생성하라"
      ],
      "metadata": {
        "id": "fMBOlyfrVH0K"
      }
    },
    {
      "cell_type": "code",
      "source": [
        "# 1.\n"
      ],
      "metadata": {
        "colab": {
          "base_uri": "https://localhost:8080/"
        },
        "outputId": "243a5810-26df-44c7-9da3-7f1cca9ff461",
        "id": "6Iw68UpRVH0L"
      },
      "execution_count": null,
      "outputs": [
        {
          "output_type": "execute_result",
          "data": {
            "text/plain": [
              "array(['TAIL', 'TAIL', 'HEAD', 'HEAD', 'HEAD', 'HEAD', 'TAIL', 'TAIL',\n",
              "       'TAIL', 'HEAD'], dtype='<U4')"
            ]
          },
          "metadata": {},
          "execution_count": 327
        }
      ]
    },
    {
      "cell_type": "code",
      "source": [
        "# 2.\n"
      ],
      "metadata": {
        "colab": {
          "base_uri": "https://localhost:8080/"
        },
        "outputId": "5934b204-7c5e-4862-9c81-0a618cdf204a",
        "id": "FI5KaF66VH0L"
      },
      "execution_count": null,
      "outputs": [
        {
          "output_type": "execute_result",
          "data": {
            "text/plain": [
              "3.66"
            ]
          },
          "metadata": {},
          "execution_count": 342
        }
      ]
    },
    {
      "cell_type": "code",
      "source": [
        "# 3.\n"
      ],
      "metadata": {
        "colab": {
          "base_uri": "https://localhost:8080/"
        },
        "outputId": "352751d5-c688-4dbd-c911-cd8e5f962911",
        "id": "-4HnkG5cVH0L"
      },
      "execution_count": null,
      "outputs": [
        {
          "output_type": "execute_result",
          "data": {
            "text/plain": [
              "array([-0.00317543, -0.01632423, -0.00067134,  0.01489356,  0.00521304,\n",
              "        0.00611927, -0.01341497,  0.00476898,  0.0014845 ,  0.00529045,\n",
              "        0.00422629, -0.01359781, -0.00041401, -0.00757871, -0.00050084,\n",
              "       -0.00897401,  0.0131247 , -0.00858972, -0.00898942,  0.00074586,\n",
              "       -0.01077099, -0.00424663, -0.00829965,  0.01411172,  0.00785804,\n",
              "       -0.0005747 , -0.00391217,  0.00940918,  0.00405204,  0.00498052,\n",
              "       -0.00026192, -0.0168823 , -0.00112466, -0.0053249 ,  0.00645055,\n",
              "        0.01011842, -0.00657951,  0.00468385,  0.01735879, -0.00667713,\n",
              "        0.01681922, -0.00852586,  0.0002296 , -0.00011146,  0.00011499,\n",
              "       -0.00837678, -0.00591183, -0.0066772 ,  0.00326963,  0.00330035,\n",
              "        0.02225944,  0.01370989, -0.00509843,  0.0032487 ,  0.00997118,\n",
              "        0.00030602, -0.00069642,  0.00051575,  0.00867277, -0.00848321,\n",
              "       -0.00325669,  0.00470433,  0.00311447,  0.00239583, -0.00369801,\n",
              "        0.00972536,  0.02133868,  0.00406415, -0.00193177,  0.0075574 ,\n",
              "       -0.00539133, -0.0074969 ,  0.00032809, -0.02582797, -0.0115395 ,\n",
              "       -0.00347962, -0.01353389, -0.01032643, -0.00436748, -0.01642965,\n",
              "       -0.00406072, -0.0053527 ,  0.00025405,  0.01154184,  0.00172504,\n",
              "        0.00021062,  0.00099454,  0.00227393, -0.01016739, -0.00114775,\n",
              "        0.00308751, -0.0137076 ,  0.00865653,  0.01081376, -0.00631376,\n",
              "       -0.00241338, -0.0087819 ,  0.0069938 , -0.01061222, -0.00222477,\n",
              "       -0.0085892 ,  0.00050954, -0.01794229,  0.01326462, -0.00964606,\n",
              "        0.00059895, -0.00212523, -0.00762115, -0.0088778 ,  0.00936399,\n",
              "       -0.00525641,  0.0027117 , -0.00801497, -0.00647181,  0.00472247,\n",
              "        0.00930408, -0.00175316, -0.0142192 ,  0.01997956, -0.00856549,\n",
              "       -0.01541587,  0.02594425, -0.00404032, -0.01461733, -0.0068344 ,\n",
              "        0.00367545,  0.00190312, -0.00851729,  0.01822724, -0.0052158 ,\n",
              "       -0.01184687,  0.00960693,  0.01329063, -0.00817493, -0.01401347,\n",
              "        0.01030438, -0.02047324, -0.01226622,  0.00967446, -0.00055353,\n",
              "       -0.00263937,  0.00352817, -0.00152774, -0.01298687,  0.01276075,\n",
              "        0.01325014,  0.00205333,  0.00045134,  0.02339625, -0.00276433,\n",
              "       -0.00259577,  0.00364481,  0.01471322,  0.01592771, -0.00258573,\n",
              "        0.00308331, -0.01378083, -0.00311976, -0.0084029 , -0.01006832,\n",
              "        0.01681577, -0.00792287, -0.00531606,  0.00365849,  0.01297825,\n",
              "        0.00481115,  0.02759355, -0.00074668,  0.00258716,  0.00275601,\n",
              "        0.01435049,  0.00507239, -0.0011623 , -0.00947489,  0.00244443,\n",
              "        0.01401345, -0.00410382,  0.00528944,  0.00246148,  0.0086352 ,\n",
              "       -0.00804754,  0.02346647, -0.01279161, -0.00365551,  0.00938093,\n",
              "        0.00296733,  0.00829986, -0.00496102, -0.00074805,  0.00012232,\n",
              "        0.0156926 ,  0.00690429,  0.00796672, -0.00657926,  0.00968883,\n",
              "        0.00225582,  0.01389145,  0.0201406 , -0.00306766, -0.00406303,\n",
              "       -0.00864045, -0.0014358 , -0.00382025,  0.00359504, -0.00144567,\n",
              "       -0.00361599,  0.01064585, -0.0093788 ,  0.00433108, -0.00405942,\n",
              "        0.00724369,  0.01385262, -0.00303098,  0.00441033,  0.00178793,\n",
              "       -0.00799422,  0.00240788,  0.00289121,  0.00412871, -0.00198399,\n",
              "        0.00094192, -0.01147611, -0.00358114,  0.00555963,  0.00892474,\n",
              "       -0.00422315,  0.00104714,  0.00228053,  0.0020148 ,  0.00540774,\n",
              "       -0.01818078, -0.00049324,  0.00239034, -0.0100033 ,  0.01673986,\n",
              "        0.00161559,  0.01563405, -0.00790523, -0.009073  ,  0.00224252,\n",
              "       -0.01678688,  0.00214966,  0.00097219,  0.01015665,  0.00701041,\n",
              "       -0.00417477, -0.01097497,  0.01712305, -0.00792115, -0.01045525])"
            ]
          },
          "metadata": {},
          "execution_count": 339
        }
      ]
    },
    {
      "cell_type": "code",
      "source": [],
      "metadata": {
        "colab": {
          "base_uri": "https://localhost:8080/"
        },
        "outputId": "631f257c-b481-4dd8-e915-d4f28501b7fa",
        "id": "7WNtBr5YVH0L"
      },
      "execution_count": null,
      "outputs": [
        {
          "output_type": "execute_result",
          "data": {
            "text/plain": [
              "array([ 9968.24569061,  9805.52172515,  9798.93887103,  9944.87995133,\n",
              "        9996.72298327, 10057.89564959,  9922.96930879,  9970.29178757,\n",
              "        9985.09264399, 10037.91830117, 10080.34141693,  9943.27087728,\n",
              "        9939.15428244,  9863.82832836,  9858.88811928,  9770.41436592,\n",
              "        9898.64815922,  9813.6215047 ,  9725.40272392,  9732.65655233,\n",
              "        9627.82619918,  9586.94035449,  9507.37214356,  9641.53752326,\n",
              "        9717.30109408,  9711.71660794,  9673.72271651,  9764.74447753,\n",
              "        9804.31162059,  9853.14223038,  9850.56147198,  9684.2613353 ,\n",
              "        9673.36983564,  9621.86011642,  9683.9264325 ,  9781.91250933,\n",
              "        9717.55231377,  9763.06789394,  9932.54293905,  9866.22208637,\n",
              "       10032.16422056,  9946.63140825,  9948.91513051,  9947.80626305,\n",
              "        9948.95015133,  9865.60998051,  9807.28616123,  9741.80092199,\n",
              "        9773.65296712,  9805.90945388, 10024.18353955, 10161.61399384,\n",
              "       10109.8056916 , 10142.64937851, 10243.78355919, 10246.91834384,\n",
              "       10239.78222817, 10245.06338999, 10333.91643038, 10246.25169649,\n",
              "       10212.88278302, 10260.92756867, 10292.8849271 , 10317.54490488,\n",
              "       10279.39050348, 10379.36125504, 10600.84314912, 10643.92661814,\n",
              "       10623.36503178, 10703.65008136, 10645.94321045, 10566.1316021 ,\n",
              "       10569.59821755, 10296.60699067, 10177.78925686, 10142.37443247,\n",
              "       10005.10866694,  9901.79160246,  9858.54569226,  9696.57320809,\n",
              "        9657.19815908,  9605.50605861,  9607.94635744,  9718.83973996,\n",
              "        9735.60516774,  9737.65568298,  9747.34021556,  9769.50496298,\n",
              "        9670.17463024,  9659.07565591,  9688.89817194,  9556.08663305,\n",
              "        9638.8091763 ,  9743.04094874,  9681.52572764,  9658.16054727,\n",
              "        9573.34351405,  9640.29761022,  9537.9926234 ,  9516.77278258,\n",
              "        9435.03132657,  9439.83887857,  9270.46652622,  9393.43570876,\n",
              "        9302.82602446,  9308.39792263,  9288.61543195,  9217.82554578,\n",
              "        9135.99152156,  9221.5408131 ,  9173.06865128,  9197.94327848,\n",
              "        9124.22204958,  9065.17177868,  9107.98179405,  9192.72323049,\n",
              "        9176.60687885,  9046.12288209,  9226.8604442 ,  9147.82783489,\n",
              "        9006.80607364,  9240.48086499,  9203.14633819,  9068.62093982,\n",
              "        9006.64237801,  9039.74583238,  9056.94951347,  8979.80883009,\n",
              "        9143.48592488,  9095.79536043,  8988.03869251,  9074.38618688,\n",
              "        9194.99048224,  9119.82206972,  8992.02169002,  9084.67892253,\n",
              "        8898.68614577,  8789.53293411,  8874.56693209,  8869.65463316,\n",
              "        8846.2443019 ,  8877.45532084,  8863.89283965,  8748.77864028,\n",
              "        8860.41964758,  8977.82145306,  8996.25584402,  9000.31621552,\n",
              "        9210.88984632,  9185.42792146,  9161.5846649 ,  9194.97692313,\n",
              "        9330.26463747,  9478.87436392,  9454.36458902,  9483.51534916,\n",
              "        9352.82459204,  9323.64601389,  9245.30031193,  9152.21569279,\n",
              "        9306.11722091,  9232.38609543,  9183.3061855 ,  9216.90319987,\n",
              "        9336.52249843,  9381.44192045,  9640.30921785,  9633.11099386,\n",
              "        9658.03343571,  9684.65104095,  9823.63056633,  9873.45984697,\n",
              "        9861.98395417,  9768.54278098,  9792.42134455,  9929.64693492,\n",
              "        9888.89747172,  9941.20416383,  9965.67421805, 10051.72977401,\n",
              "        9970.83810266, 10204.81847891, 10074.28240989, 10037.45576073,\n",
              "       10131.61638452, 10161.68025124, 10246.02079085, 10195.19004257,\n",
              "       10187.56353242, 10188.80967353, 10348.69854894, 10420.14896737,\n",
              "       10503.16338784, 10434.06033537, 10535.15413445, 10558.91951041,\n",
              "       10705.59824618, 10921.2154348 , 10887.71288352, 10843.47576524,\n",
              "       10749.78325603, 10734.34876972, 10693.34082564, 10731.78385637,\n",
              "       10716.26925805, 10677.51930548, 10791.19058892, 10689.98214568,\n",
              "       10736.28130854, 10692.69826276, 10770.1528013 , 10919.34758658,\n",
              "       10886.25123476, 10934.26318507, 10953.81286756, 10866.2456339 ,\n",
              "       10892.41019616, 10923.90238756, 10969.00399297, 10947.24161006,\n",
              "       10957.55306875, 10831.80299044, 10793.01277931, 10853.01790238,\n",
              "       10949.87825314, 10903.63529406, 10915.05292993, 10939.94507107,\n",
              "       10961.98686657, 11021.26639597, 10820.89121704, 10815.55391307,\n",
              "       10841.40672108, 10732.95683939, 10912.62500283, 10930.25535982,\n",
              "       11101.13949076, 11013.3824274 , 10913.45799525, 10937.93166719,\n",
              "       10754.31788116, 10777.43596411, 10787.91370458, 10897.48279868,\n",
              "       10973.87865825, 10928.06520044, 10808.13005044, 10993.19822562,\n",
              "       10906.11945123, 10792.09329415])"
            ]
          },
          "metadata": {},
          "execution_count": 340
        }
      ]
    },
    {
      "cell_type": "markdown",
      "source": [
        "## 정수 데이터 카운팅\n",
        "* 만약 난수가 정수값이면 unique 명령이나 bincount 명령으로 데이터 값을 분석"
      ],
      "metadata": {
        "id": "TskiMmNcVH0L"
      }
    },
    {
      "cell_type": "markdown",
      "source": [
        "### `unique`\n",
        "* unique 함수는 데이터에서 중복된 값을 제거하고 중복되지 않는 값의 리스트를 출력\n",
        "* return_counts 인수를 True 로 설정하면 각 값을 가진 데이터 갯수도 출력\n"
      ],
      "metadata": {
        "id": "Ntxx6PIyVH0L"
      }
    },
    {
      "cell_type": "code",
      "source": [],
      "metadata": {
        "colab": {
          "base_uri": "https://localhost:8080/"
        },
        "outputId": "15bdfdae-8b16-4d23-e9b3-bc7aa8beb424",
        "id": "fmu9aJpDVH0L"
      },
      "execution_count": null,
      "outputs": [
        {
          "output_type": "execute_result",
          "data": {
            "text/plain": [
              "array([ 2, 11, 34])"
            ]
          },
          "metadata": {},
          "execution_count": 343
        }
      ]
    },
    {
      "cell_type": "code",
      "source": [],
      "metadata": {
        "id": "k2vkqwwzVH0L"
      },
      "execution_count": null,
      "outputs": []
    },
    {
      "cell_type": "code",
      "source": [],
      "metadata": {
        "colab": {
          "base_uri": "https://localhost:8080/"
        },
        "outputId": "9bfdb09c-119f-45fb-cc5c-1dfcfe0cf439",
        "id": "JRT5rEV3VH0M"
      },
      "execution_count": null,
      "outputs": [
        {
          "output_type": "execute_result",
          "data": {
            "text/plain": [
              "array(['a', 'b', 'c'], dtype='<U1')"
            ]
          },
          "metadata": {},
          "execution_count": 345
        }
      ]
    },
    {
      "cell_type": "code",
      "source": [],
      "metadata": {
        "colab": {
          "base_uri": "https://localhost:8080/"
        },
        "outputId": "aaf9d7d6-a932-48e8-83a3-537b100eacc8",
        "id": "XXWBuYDDVH0M"
      },
      "execution_count": null,
      "outputs": [
        {
          "output_type": "execute_result",
          "data": {
            "text/plain": [
              "array([2, 2, 1])"
            ]
          },
          "metadata": {},
          "execution_count": 346
        }
      ]
    },
    {
      "cell_type": "markdown",
      "source": [
        "### `bincount`\n",
        "* `unique` 함수는 데이터에 존재하는 값에 대해서만 갯수를 세므로 데이터 값이 나올 수 있음에도 불구하고 데이터가 하나도 없는 경우에는 정보를 주지 않음\n",
        "* 따라서 데이터가 주사위를 던졌을 때 나오는 수처럼 특정 범위안의 수인 경우에는 `bincount` 함수에 `minlength` 인수를 설정하여 쓰는 것이 더 편리\n",
        "* `bincount` 함수는 0 부터 `minlength` - 1 까지의 숫자에 대해 각각 카운트\n",
        "* 데이터가 없을 경우에는 카운트 값이 0이 됨"
      ],
      "metadata": {
        "id": "u_uDce0YVH0M"
      }
    },
    {
      "cell_type": "code",
      "source": [],
      "metadata": {
        "colab": {
          "base_uri": "https://localhost:8080/"
        },
        "outputId": "b2249dd1-8f85-48ef-f4db-be0ab4eda4b5",
        "id": "ChFB7_0cVH0M"
      },
      "execution_count": null,
      "outputs": [
        {
          "output_type": "execute_result",
          "data": {
            "text/plain": [
              "array([0, 2, 3, 1, 0, 0])"
            ]
          },
          "metadata": {},
          "execution_count": 347
        }
      ]
    },
    {
      "cell_type": "markdown",
      "source": [
        "# 난수 발생과 카운팅"
      ],
      "metadata": {
        "id": "x1uZuajeI9Si"
      }
    },
    {
      "cell_type": "markdown",
      "source": [
        "## 시드 설정\n",
        "* 컴퓨터 프로그램에서 발생하는 무작위 수는 사실 엄격한 의미의 무작위 수가 아님\n",
        "* 어떤 특정한 시작 숫자를 정해 주면 컴퓨터가 정해진 알고리즘에 의해 마치 난수처럼 보이는 수열을 생성. 이런 시작 숫자를 시드(seed)라고 함\n",
        "* 일단 생성된 난수는 다음번 난수 생성을 위한 시드값이 됨. 따라서 시드값은 한 번만 정해주면 됨.\n",
        "* 시드는 보통 현재 시각 등을 이용하여 자동으로 정해지지만 사람이 수동으로 설정할 수도 있음 * 특정한 시드값이 사용되면 그 다음에 만들어지는 난수들은 모두 예측할 수 있음\n",
        "* 고정된 결과를 얻기 위해서 실습엔 시드를 설정"
      ],
      "metadata": {
        "id": "fndKX-nYaDQX"
      }
    },
    {
      "cell_type": "code",
      "source": [
        "np.random.seed(0)  # 시드값 고정"
      ],
      "metadata": {
        "id": "V6YtmV1laDQX"
      },
      "execution_count": null,
      "outputs": []
    },
    {
      "cell_type": "markdown",
      "source": [
        "### `rand` : 0과 1 사이의 난수를 발생"
      ],
      "metadata": {
        "id": "EwBcGfEaaDQY"
      }
    },
    {
      "cell_type": "code",
      "source": [
        "np.random.rand(5)  # rand(n) : n개의 길이를 가지는 배열에 각각 0~1 사이의 난수를 채워줌"
      ],
      "metadata": {
        "colab": {
          "base_uri": "https://localhost:8080/"
        },
        "outputId": "7f3fca87-89ed-4089-e697-1ac25432e01d",
        "id": "l1zd4pZfaDQY"
      },
      "execution_count": null,
      "outputs": [
        {
          "output_type": "execute_result",
          "data": {
            "text/plain": [
              "array([0.5488135 , 0.71518937, 0.60276338, 0.54488318, 0.4236548 ])"
            ]
          },
          "metadata": {},
          "execution_count": 16
        }
      ]
    },
    {
      "cell_type": "code",
      "source": [
        "np.random.rand(10)"
      ],
      "metadata": {
        "colab": {
          "base_uri": "https://localhost:8080/"
        },
        "outputId": "97f35d27-7773-4f1a-fa51-223ee18c34e5",
        "id": "GCAw6wclaDQY"
      },
      "execution_count": null,
      "outputs": [
        {
          "output_type": "execute_result",
          "data": {
            "text/plain": [
              "array([0.64589411, 0.43758721, 0.891773  , 0.96366276, 0.38344152,\n",
              "       0.79172504, 0.52889492, 0.56804456, 0.92559664, 0.07103606])"
            ]
          },
          "metadata": {},
          "execution_count": 17
        }
      ]
    },
    {
      "cell_type": "markdown",
      "source": [
        "## 데이터의 순서 변경"
      ],
      "metadata": {
        "id": "rhTGdrZ6aDQY"
      }
    },
    {
      "cell_type": "markdown",
      "source": [
        "### `shuffle`\n",
        "* 데이터의 순서를 변경\n",
        "* 자체 변환(in-place) 함수 (원본에 영향)"
      ],
      "metadata": {
        "id": "WwkybPzkaDQY"
      }
    },
    {
      "cell_type": "code",
      "source": [
        "x = np.arange(10)\n",
        "x"
      ],
      "metadata": {
        "colab": {
          "base_uri": "https://localhost:8080/"
        },
        "outputId": "758f8564-d64d-4152-bde4-c20259ec0ea9",
        "id": "aFVByoURaDQY"
      },
      "execution_count": null,
      "outputs": [
        {
          "output_type": "execute_result",
          "data": {
            "text/plain": [
              "array([0, 1, 2, 3, 4, 5, 6, 7, 8, 9])"
            ]
          },
          "metadata": {},
          "execution_count": 18
        }
      ]
    },
    {
      "cell_type": "code",
      "source": [
        "np.random.shuffle(x)  # x를 섞어줌 -> x 자체를 섞어버림\n",
        "x"
      ],
      "metadata": {
        "colab": {
          "base_uri": "https://localhost:8080/"
        },
        "outputId": "3bdaa35d-3935-4deb-d59b-da845182fbe2",
        "id": "bZ0xFpOnaDQY"
      },
      "execution_count": null,
      "outputs": [
        {
          "output_type": "execute_result",
          "data": {
            "text/plain": [
              "array([5, 1, 8, 2, 6, 7, 0, 3, 4, 9])"
            ]
          },
          "metadata": {},
          "execution_count": 19
        }
      ]
    },
    {
      "cell_type": "markdown",
      "source": [
        "## 데이터 샘플링\n",
        "* 표본선택 혹은 샘플링(sampling) : 이미 있는 데이터 집합에서 일부를 무작위로 선택하는 것"
      ],
      "metadata": {
        "id": "CuiV-Ux4aDQZ"
      }
    },
    {
      "cell_type": "markdown",
      "source": [
        "### `choice` : 샘플링에 사용\n",
        "```\n",
        "numpy.random.choice(a, size=None, replace=True, p=None)\n",
        "```\n",
        "* a : 배열이면 원래의 데이터, 정수이면 arange(a) 명령으로 데이터 생성\n",
        "* size : 정수. 샘플 숫자\n",
        "* replace : 불리언. True이면 한번 선택한 데이터를 다시 선택 가능 (복원/비복원 추출)\n",
        "* p : 배열. 각 데이터가 선택될 수 있는 확률"
      ],
      "metadata": {
        "id": "TV_cxMM2aDQZ"
      }
    },
    {
      "cell_type": "code",
      "source": [
        "np.random.choice(5, 5, replace=False)  # 5개 중에 5개를 선택 -> 비복원 -> shuffle"
      ],
      "metadata": {
        "colab": {
          "base_uri": "https://localhost:8080/"
        },
        "outputId": "357ca240-0a76-4c48-9a8f-d6e85e1ff124",
        "id": "bROlPR6naDQZ"
      },
      "execution_count": null,
      "outputs": [
        {
          "output_type": "execute_result",
          "data": {
            "text/plain": [
              "array([0, 4, 2, 1, 3])"
            ]
          },
          "metadata": {},
          "execution_count": 20
        }
      ]
    },
    {
      "cell_type": "code",
      "source": [
        "np.random.choice(5, 3, replace=False)  # 5개 중에 3개를 선택 -> 비복원"
      ],
      "metadata": {
        "colab": {
          "base_uri": "https://localhost:8080/"
        },
        "outputId": "cb95f56f-108d-4d41-c179-dc6b0e041ce4",
        "id": "oW1-lC6faDQZ"
      },
      "execution_count": null,
      "outputs": [
        {
          "output_type": "execute_result",
          "data": {
            "text/plain": [
              "array([4, 2, 3])"
            ]
          },
          "metadata": {},
          "execution_count": 21
        }
      ]
    },
    {
      "cell_type": "code",
      "source": [
        "# np.random.choice(5, 10) # 복원, 5개 중에 10개를 선택 (뽑았던 것을 또 뽑는다)\n",
        "np.random.choice(5, 10, replace=True) # 복원, 5개 중에 10개를 선택 (뽑았던 것을 또 뽑는다)"
      ],
      "metadata": {
        "colab": {
          "base_uri": "https://localhost:8080/"
        },
        "outputId": "112cf876-f042-4888-b094-b89abd9d0ac9",
        "id": "js9PHkRqaDQZ"
      },
      "execution_count": null,
      "outputs": [
        {
          "output_type": "execute_result",
          "data": {
            "text/plain": [
              "array([0, 2, 4, 3, 3, 2, 4, 2, 0, 0])"
            ]
          },
          "metadata": {},
          "execution_count": 22
        }
      ]
    },
    {
      "cell_type": "code",
      "source": [
        "# [0, 1, 2, 3, 4]\n",
        "np.random.choice(5, 10, p=[0.1, 0, 0.3, 0.6, 0]) # 복원, 5개 중에 10개를 선택 (뽑았던 것을 또 뽑는다)"
      ],
      "metadata": {
        "colab": {
          "base_uri": "https://localhost:8080/"
        },
        "outputId": "337f87fb-46d7-4124-8651-ef752621ab61",
        "id": "tGD0Bn3eaDQZ"
      },
      "execution_count": null,
      "outputs": [
        {
          "output_type": "execute_result",
          "data": {
            "text/plain": [
              "array([2, 2, 2, 2, 3, 3, 3, 3, 0, 3])"
            ]
          },
          "metadata": {},
          "execution_count": 23
        }
      ]
    },
    {
      "cell_type": "markdown",
      "source": [
        "## 난수 생성\n",
        "* `rand` : 0부터 1 사이의 균일 분포\n",
        "* `randn` : 표준 정규 분포\n",
        "* `randint` : 균일 분포의 정수 난수"
      ],
      "metadata": {
        "id": "MMXJC3fCaDQZ"
      }
    },
    {
      "cell_type": "markdown",
      "source": [
        "### `rand` : 0부터 1 사이에서 균일한 확률 분포로 실수 난수를 생성\n",
        "* 숫자 인수는 생성할 난수의 크기\n",
        "* 여러 개의 인수를 넣으면 해당 크기를 가진 행렬을 생성"
      ],
      "metadata": {
        "id": "LxpM8mYCaDQa"
      }
    },
    {
      "cell_type": "code",
      "source": [
        "np.random.rand(10)"
      ],
      "metadata": {
        "colab": {
          "base_uri": "https://localhost:8080/"
        },
        "outputId": "fbd23445-5b29-4b72-ebff-f0b70b3ac8a4",
        "id": "45Lc87RCaDQa"
      },
      "execution_count": null,
      "outputs": [
        {
          "output_type": "execute_result",
          "data": {
            "text/plain": [
              "array([0.65314004, 0.17090959, 0.35815217, 0.75068614, 0.60783067,\n",
              "       0.32504723, 0.03842543, 0.63427406, 0.95894927, 0.65279032])"
            ]
          },
          "metadata": {},
          "execution_count": 24
        }
      ]
    },
    {
      "cell_type": "code",
      "source": [
        "np.random.rand(3, 5)"
      ],
      "metadata": {
        "colab": {
          "base_uri": "https://localhost:8080/"
        },
        "outputId": "ba1dff93-def8-4c95-9500-84cfe002a878",
        "id": "ujk9Ja9raDQa"
      },
      "execution_count": null,
      "outputs": [
        {
          "output_type": "execute_result",
          "data": {
            "text/plain": [
              "array([[0.63505887, 0.99529957, 0.58185033, 0.41436859, 0.4746975 ],\n",
              "       [0.6235101 , 0.33800761, 0.67475232, 0.31720174, 0.77834548],\n",
              "       [0.94957105, 0.66252687, 0.01357164, 0.6228461 , 0.67365963]])"
            ]
          },
          "metadata": {},
          "execution_count": 25
        }
      ]
    },
    {
      "cell_type": "markdown",
      "source": [
        "### `randn` : 기댓값이 0이고 표준편차가 1인 표준 정규 분포(standard normal distribution)를 따르는 난수를 생성"
      ],
      "metadata": {
        "id": "cf5BPbqVaDQa"
      }
    },
    {
      "cell_type": "code",
      "source": [
        "np.random.randn(10)"
      ],
      "metadata": {
        "colab": {
          "base_uri": "https://localhost:8080/"
        },
        "outputId": "52ad4679-deb0-4e59-e23f-e38622ad9000",
        "id": "y8iSe6eBaDQa"
      },
      "execution_count": null,
      "outputs": [
        {
          "output_type": "execute_result",
          "data": {
            "text/plain": [
              "array([-0.68658948,  0.01487332, -0.3756659 , -0.03822364,  0.36797447,\n",
              "       -0.0447237 , -0.30237513, -2.2244036 ,  0.72400636,  0.35900276])"
            ]
          },
          "metadata": {},
          "execution_count": 26
        }
      ]
    },
    {
      "cell_type": "code",
      "source": [
        "np.random.randn(3, 5)"
      ],
      "metadata": {
        "colab": {
          "base_uri": "https://localhost:8080/"
        },
        "outputId": "f17a7c6d-8936-44ca-ee9d-5ac9f370b89c",
        "id": "82UmCUx4aDQa"
      },
      "execution_count": null,
      "outputs": [
        {
          "output_type": "execute_result",
          "data": {
            "text/plain": [
              "array([[ 1.07612104,  0.19214083,  0.85292596,  0.01835718,  0.42830357],\n",
              "       [ 0.99627783, -0.49114966,  0.71267817,  1.11334035, -2.15367459],\n",
              "       [-0.41611148, -1.07089699,  0.22113881, -1.12305712, -1.05075796]])"
            ]
          },
          "metadata": {},
          "execution_count": 27
        }
      ]
    },
    {
      "cell_type": "markdown",
      "source": [
        "### `randint`\n",
        "```\n",
        "numpy.random.randint(low, high=None, size=None)\n",
        "```\n",
        "만약 `high`를 입력하지 않으면 0과 `low`사이의 숫자, `high`를 입력하면 `low`와 `high`는 사이의 숫자를 출력. `size`는 난수의 숫자"
      ],
      "metadata": {
        "id": "2n9XdvOBaDQa"
      }
    },
    {
      "cell_type": "code",
      "source": [
        "np.random.randint(10)  # 최대값 -> 그것보다 작은 범위에서의 랜덤 숫자 (끝점 제외)\n",
        "# np.random.randint(10, size=1)  # 최대값 -> 그것보다 작은 범위에서의 랜덤 숫자"
      ],
      "metadata": {
        "colab": {
          "base_uri": "https://localhost:8080/"
        },
        "outputId": "a448bc55-4e9f-4021-8f94-83e668ff1484",
        "id": "fjE5Pm_4aDQa"
      },
      "execution_count": null,
      "outputs": [
        {
          "output_type": "execute_result",
          "data": {
            "text/plain": [
              "8"
            ]
          },
          "metadata": {},
          "execution_count": 29
        }
      ]
    },
    {
      "cell_type": "code",
      "source": [
        "np.random.randint(10, size=10)  # 시작점"
      ],
      "metadata": {
        "colab": {
          "base_uri": "https://localhost:8080/"
        },
        "id": "AYw_GmsbUPuV",
        "outputId": "303295f7-363a-44b6-a12a-cf83b90003f6"
      },
      "execution_count": null,
      "outputs": [
        {
          "output_type": "execute_result",
          "data": {
            "text/plain": [
              "array([8, 3, 8, 2, 8, 4, 3, 0, 4, 3])"
            ]
          },
          "metadata": {},
          "execution_count": 30
        }
      ]
    },
    {
      "cell_type": "code",
      "source": [
        "np.random.randint(10, 20, size=10)  # 시작점, 끝점"
      ],
      "metadata": {
        "colab": {
          "base_uri": "https://localhost:8080/"
        },
        "outputId": "b1fa7b5f-a2c6-4487-97ed-9cfdc6dd53ed",
        "id": "e-JKAGu6aDQb"
      },
      "execution_count": null,
      "outputs": [
        {
          "output_type": "execute_result",
          "data": {
            "text/plain": [
              "array([16, 19, 18, 10, 18, 15, 19, 10, 19, 16])"
            ]
          },
          "metadata": {},
          "execution_count": 31
        }
      ]
    },
    {
      "cell_type": "code",
      "source": [
        "np.random.randint(10, 20, size=(3,5))"
      ],
      "metadata": {
        "colab": {
          "base_uri": "https://localhost:8080/"
        },
        "outputId": "6ba7c7a6-aaf9-4eff-98e0-a4788191df5d",
        "id": "803QJWnBaDQb"
      },
      "execution_count": null,
      "outputs": [
        {
          "output_type": "execute_result",
          "data": {
            "text/plain": [
              "array([[15, 13, 11, 18, 10],\n",
              "       [14, 19, 16, 15, 17],\n",
              "       [18, 18, 19, 12, 18]])"
            ]
          },
          "metadata": {},
          "execution_count": 32
        }
      ]
    },
    {
      "cell_type": "markdown",
      "source": [
        "## 💡 연습문제 7\n",
        "1. 동전을 10번 던져 앞면(숫자 1)과 뒷면(숫자 0)이 나오는 가상 실험을 작성하라\n",
        "2. 주사위를 100번 던져서 나오는 숫자의 평균\n",
        "3. 가격이 10,000원인 주식이 있다. 이 주식의 일간 수익률(%)은 기댓값이 0%이고 표준편차가 1%인 표준 정규 분포를 따른다고 하자. 250일 동안의 주가를 무작위로 생성하라"
      ],
      "metadata": {
        "id": "RfBTVEB4aDQb"
      }
    },
    {
      "cell_type": "code",
      "source": [
        "# 1.\n",
        "np.random.choice([0, 1], size=10, replace=True)"
      ],
      "metadata": {
        "colab": {
          "base_uri": "https://localhost:8080/"
        },
        "outputId": "2c603048-157c-4385-f044-f3c074e6c4b3",
        "id": "_JacxfbKaDQb"
      },
      "execution_count": null,
      "outputs": [
        {
          "output_type": "execute_result",
          "data": {
            "text/plain": [
              "array([0, 0, 1, 0, 1, 0, 1, 1, 0, 0])"
            ]
          },
          "metadata": {},
          "execution_count": 34
        }
      ]
    },
    {
      "cell_type": "code",
      "source": [
        "np.random.choice([\"H\", \"T\"], size=10, replace=True)"
      ],
      "metadata": {
        "colab": {
          "base_uri": "https://localhost:8080/"
        },
        "id": "Q9_W8SAdZP0z",
        "outputId": "af4b714d-3ced-4fb0-c90d-f5ff97b1b4da"
      },
      "execution_count": null,
      "outputs": [
        {
          "output_type": "execute_result",
          "data": {
            "text/plain": [
              "array(['H', 'T', 'H', 'H', 'T', 'T', 'T', 'T', 'H', 'T'], dtype='<U1')"
            ]
          },
          "metadata": {},
          "execution_count": 35
        }
      ]
    },
    {
      "cell_type": "code",
      "source": [
        "# 2.\n",
        "# np.random.randint(1, 7, 100)\n",
        "# np.random.randint(1, 7, 100).mean()\n",
        "np.random.choice(range(1,7), size=100, replace=True).mean()"
      ],
      "metadata": {
        "colab": {
          "base_uri": "https://localhost:8080/"
        },
        "outputId": "4584e703-1645-4735-8edc-263480d3e450",
        "id": "n6PDFHkbaDQb"
      },
      "execution_count": null,
      "outputs": [
        {
          "output_type": "execute_result",
          "data": {
            "text/plain": [
              "3.52"
            ]
          },
          "metadata": {},
          "execution_count": 38
        }
      ]
    },
    {
      "cell_type": "code",
      "source": [
        "# 3.\n",
        "random_list = np.random.randn(250) / 100\n",
        "random_list"
      ],
      "metadata": {
        "colab": {
          "base_uri": "https://localhost:8080/"
        },
        "outputId": "3423c6a3-dfb2-4d27-fb94-f7d0f3a685d5",
        "id": "RD2dgC4HaDQc"
      },
      "execution_count": 58,
      "outputs": [
        {
          "output_type": "execute_result",
          "data": {
            "text/plain": [
              "array([-2.99272356e-03,  7.08507685e-03, -5.79825126e-03,  1.68992749e-02,\n",
              "       -4.26598366e-03, -1.96926916e-03, -1.86805984e-02, -1.30729405e-02,\n",
              "       -4.40559294e-03, -9.98825343e-03, -1.04856139e-02,  5.71891148e-03,\n",
              "        1.50269100e-03,  7.88473865e-03,  2.10187965e-02, -6.51176939e-03,\n",
              "        3.37360872e-03, -1.62458195e-02, -2.88568122e-03, -3.54680025e-03,\n",
              "       -9.29567520e-03,  3.24580517e-04, -3.16484702e-03,  1.06605778e-02,\n",
              "        4.63858828e-03, -1.44927076e-02,  6.34463855e-03,  1.43692767e-02,\n",
              "       -1.21142064e-02,  2.90135499e-03, -1.60419962e-02,  1.01505813e-02,\n",
              "        4.69662190e-03,  4.22646424e-03, -1.68823281e-02, -1.69480065e-02,\n",
              "        1.29587702e-03,  2.54654707e-03, -7.38810865e-04, -4.66007661e-03,\n",
              "        1.88017278e-02,  9.84231079e-03,  1.42654119e-02, -1.15284674e-02,\n",
              "        1.45556787e-02,  3.80704705e-03, -2.05476681e-03,  8.59114575e-03,\n",
              "       -1.07408218e-02,  7.40780083e-03,  1.52729651e-02,  2.17421704e-03,\n",
              "        8.56927250e-03,  9.54273093e-03, -1.39715585e-02, -7.81204311e-04,\n",
              "        1.72876146e-03, -1.43510181e-02,  4.10345162e-03, -5.37224596e-04,\n",
              "       -4.81480177e-03, -2.27773106e-03, -7.03187332e-03,  7.84178383e-03,\n",
              "       -9.33284001e-04, -4.64685424e-03, -1.82221002e-03,  1.01217406e-02,\n",
              "        3.02946087e-03, -1.50264133e-03,  5.50123538e-03,  1.34953076e-02,\n",
              "       -1.10706573e-02,  6.98461968e-03,  2.08301634e-03,  4.60923415e-03,\n",
              "        7.54694001e-03,  1.61165497e-02, -2.24994387e-02,  1.88598420e-02,\n",
              "        1.67735672e-02,  1.09071681e-02,  1.48378311e-02, -1.11975858e-02,\n",
              "       -8.46607972e-03, -8.79703102e-04, -1.42702397e-03, -9.09559796e-04,\n",
              "        9.88025256e-03, -1.57958719e-02,  1.38725220e-02, -8.11732169e-03,\n",
              "       -8.56753412e-03,  4.29353231e-03, -8.23467573e-03, -1.27974266e-02,\n",
              "        1.95331023e-03, -7.86741075e-03, -7.81609727e-03,  4.88824292e-03,\n",
              "        1.26346975e-02, -8.77687835e-03,  9.04146273e-03,  4.16586584e-03,\n",
              "       -4.27534844e-03,  4.92254494e-04,  1.63421412e-02,  1.09781657e-03,\n",
              "       -4.60869926e-04, -4.97689210e-03,  5.14786219e-03,  9.91670130e-03,\n",
              "        2.25399401e-02,  1.16536421e-02,  1.72285989e-03,  9.09828702e-03,\n",
              "        1.70280861e-02, -6.55953596e-03,  2.10383666e-03, -6.35239579e-04,\n",
              "       -1.08496999e-02,  2.95144795e-04, -1.34822409e-02,  6.28293531e-03,\n",
              "        1.44494228e-02,  9.76027470e-03, -5.69339279e-04, -9.72384370e-03,\n",
              "       -1.52406648e-02,  5.29478958e-03,  5.41298891e-03, -1.17400109e-02,\n",
              "       -6.87567953e-03,  1.27248032e-02,  6.86878828e-03,  1.64219518e-02,\n",
              "       -5.43786947e-03,  5.68898094e-03, -6.56650381e-03,  8.33200484e-03,\n",
              "       -2.31712931e-02,  3.90059395e-03,  7.85337686e-03, -1.09745767e-02,\n",
              "        2.12295407e-03,  7.74747768e-04, -4.33805599e-03, -1.30792581e-03,\n",
              "       -3.62099969e-04, -2.05040084e-02,  7.40469681e-03, -8.09004741e-04,\n",
              "       -7.67925618e-03,  1.07202237e-02,  3.35546536e-03,  6.61001398e-03,\n",
              "       -1.70160892e-02, -2.64992878e-03, -1.32275206e-02,  3.27476025e-03,\n",
              "        7.44043675e-04,  4.10792956e-04,  1.25963720e-02,  8.91666648e-03,\n",
              "        5.05617107e-03, -6.83416673e-03, -8.76491065e-03, -5.61466194e-05,\n",
              "        1.46656234e-02, -7.25793536e-03, -1.73281749e-02,  6.99959284e-03,\n",
              "        3.20042808e-04,  2.11288284e-03,  8.73911376e-04,  6.50524736e-03,\n",
              "       -6.18725086e-03,  8.91447693e-04,  2.44148624e-03, -8.44680712e-03,\n",
              "       -9.02576167e-03,  8.16771700e-03,  6.91968539e-03, -1.25528043e-02,\n",
              "        1.25172295e-02, -8.81747692e-03,  1.48999457e-02,  4.91099375e-03,\n",
              "        9.02338904e-04, -5.18774756e-04,  1.12758788e-02,  4.00353176e-04,\n",
              "       -1.23398409e-02, -7.30246759e-03, -2.47709741e-02,  8.63043715e-04,\n",
              "        1.28191919e-02, -4.70391494e-03, -1.02290426e-02,  1.16400249e-02,\n",
              "       -5.27412051e-03,  1.78937620e-02,  6.19126020e-03, -1.09854213e-02,\n",
              "        5.87627897e-03,  1.43347811e-02, -1.03768013e-02, -1.19080494e-04,\n",
              "       -4.42832920e-04,  1.49951807e-02, -1.01651646e-04,  5.37303358e-03,\n",
              "       -1.80641634e-03, -3.51324048e-03, -2.83419039e-03,  6.87417069e-03,\n",
              "       -5.52111259e-04,  4.64463062e-03,  1.21940615e-02, -5.59494921e-03,\n",
              "       -7.99753646e-03, -6.19564145e-04,  4.78616217e-03,  5.41855505e-03,\n",
              "       -2.76199223e-03,  8.44562604e-05,  4.17933750e-03, -7.16912431e-03,\n",
              "        1.65127286e-02,  7.49986156e-03,  1.34023724e-02, -1.44060550e-02,\n",
              "       -1.97453122e-02, -1.49290445e-02, -4.40193355e-03, -7.99284669e-04,\n",
              "       -1.03208472e-02,  7.48544811e-03,  2.54969150e-02, -5.88179941e-03,\n",
              "        6.12608375e-03, -1.90186505e-03,  2.24924244e-02,  1.38974492e-02,\n",
              "       -5.11201572e-03, -3.47808067e-03,  2.17182257e-03, -1.50944590e-02,\n",
              "        3.01069300e-03,  3.75846986e-03])"
            ]
          },
          "metadata": {},
          "execution_count": 58
        }
      ]
    },
    {
      "cell_type": "code",
      "source": [
        "start = 10000 # 시작값 만원\n",
        "price = np.empty(250)\n",
        "for i, v in enumerate(random_list):\n",
        "  start *= (1 + v)  #변동 금액 전체 1 X 변동금액\n",
        "  price[i] = start\n",
        "price"
      ],
      "metadata": {
        "colab": {
          "base_uri": "https://localhost:8080/"
        },
        "outputId": "65bfda4c-1eaa-46b2-c3ee-a859dcadd5ce",
        "id": "YzVkyo8FaDQc"
      },
      "execution_count": 60,
      "outputs": [
        {
          "output_type": "execute_result",
          "data": {
            "text/plain": [
              "array([ 9970.07276441, 10040.7114961 ,  9982.49292801, 10151.18982054,\n",
              "       10107.88501061, 10087.97986443,  9899.53036387,  9770.11439262,\n",
              "        9727.07124562,  9629.91479289,  9528.93922465,  9583.43438459,\n",
              "        9597.83532522,  9673.51174839,  9876.83732311,  9812.5216362 ,\n",
              "        9845.6252448 ,  9685.67499431,  9657.72522383,  9623.47120156,\n",
              "        9534.01453894,  9537.10909431,  9506.92560301,  9608.27492329,\n",
              "        9652.84375473,  9512.94791313,  9573.3041292 ,  9710.86558562,\n",
              "        9593.22615588,  9621.05951051,  9466.71851021,  9562.81120588,\n",
              "        9607.72411442,  9648.3308168 ,  9485.44453007,  9324.68515492,\n",
              "        9336.7688001 ,  9360.54532134,  9353.62964875,  9310.04101799,\n",
              "        9485.08587501,  9578.44103808,  9715.0814446 ,  9603.08144476,\n",
              "        9742.86081276,  9779.95234225,  9759.85682076,  9843.70517323,\n",
              "        9737.97568993,  9810.11267437,  9959.94218328,  9981.59725929,\n",
              "       10067.13228619, 10163.20022078, 10021.20447452, 10013.37586638,\n",
              "       10030.68660471,  9886.73603968,  9927.30578272,  9921.97258988,\n",
              "        9874.2002587 ,  9851.70948608,  9782.433513  ,  9859.14524191,\n",
              "        9849.94385939,  9804.17260601,  9786.30734443,  9885.3618086 ,\n",
              "        9915.30912542,  9900.4099721 ,  9954.87445771, 10089.21855015,\n",
              "        9977.52426962, 10047.21348201, 10068.14199181, 10114.54841574,\n",
              "       10190.88230587, 10355.12416656, 10122.1396856 , 10313.04164079,\n",
              "       10486.02813733, 10600.40100857, 10757.68796882, 10637.22783473,\n",
              "       10547.17221585, 10537.89383573, 10522.85600859, 10513.28484183,\n",
              "       10617.15875129, 10449.4514712 , 10594.41171657, 10508.4134685 ,\n",
              "       10418.38227753, 10463.11393846, 10376.9535881 , 10244.15528652,\n",
              "       10264.16529983, 10183.4128954 , 10103.81834965, 10153.20826817,\n",
              "       10281.49098378, 10191.25158818, 10283.39540954, 10326.23465524,\n",
              "       10282.08640402, 10287.14780726, 10455.2618294 , 10466.73978906,\n",
              "       10461.91598347, 10409.84815645, 10463.43662022, 10567.19939571,\n",
              "       10805.38343712, 10931.30550796, 10950.13861572, 11049.76611981,\n",
              "       11237.92248833, 11164.20693161, 11187.69459948, 11180.58773308,\n",
              "       11059.28171201, 11062.54580144, 10913.3978937 , 10981.96606667,\n",
              "       11140.64913714, 11249.38493304, 11242.98021633, 11133.65523401,\n",
              "       10963.97092617, 11022.02284513, 11081.6849326 , 10951.58583022,\n",
              "       10876.28623567, 11014.68483781, 11090.34237591, 11272.46744339,\n",
              "       11211.16923678, 11274.94936485, 11200.91236691, 11294.23842292,\n",
              "       11032.53631437, 11075.56975873, 11162.55038199, 11040.04611713,\n",
              "       11063.48362794, 11072.05503718, 11024.02384247, 11009.60523717,\n",
              "       11005.61865946, 10779.95936167, 10859.7816924 , 10850.99607752,\n",
              "       10767.66849886, 10883.10031353, 10919.61817962, 10991.7970084 ,\n",
              "       10804.75960953, 10776.12776609, 10633.58631391, 10668.40875968,\n",
              "       10676.34652174, 10680.73228969, 10815.27076708, 10911.70692941,\n",
              "       10966.87838629, 10891.92891088, 10796.46212718, 10795.85594233,\n",
              "       10954.18390035, 10874.67914167, 10686.24079959, 10761.04013418,\n",
              "       10764.48412769, 10787.22822147, 10796.65530293, 10866.89021639,\n",
              "       10799.65404058, 10809.28136726, 10835.67207903, 10744.14524701,\n",
              "       10647.1711527 , 10734.13423354, 10808.41106538, 10672.73519599,\n",
              "       10806.32827196, 10711.04372184, 10870.63769167, 10924.02332546,\n",
              "       10933.88049669, 10928.20827551, 11051.43342724, 11055.85790371,\n",
              "       10919.43037663, 10839.69159017, 10571.18187014, 10580.30526221,\n",
              "       10715.9362254 , 10665.52937289, 10556.43121831, 10679.30834038,\n",
              "       10622.98438128, 10813.06953543, 10880.01606246, 10760.49450259,\n",
              "       10823.72617019, 10978.88191604, 10864.95624001, 10863.66243566,\n",
              "       10858.8516483 , 11021.68209137, 11020.56171924, 11079.77556748,\n",
              "       11059.7608799 , 11020.90528029, 10989.66993649, 11065.21480347,\n",
              "       11059.10557379, 11110.47103412, 11245.95280126, 11183.03226647,\n",
              "       11093.59555815, 11086.7223641 , 11139.78521527, 11200.14675465,\n",
              "       11169.21203629, 11170.15534617, 11216.83919534, 11136.42428075,\n",
              "       11320.317033  , 11405.21784358, 11558.07481987, 11391.56855791,\n",
              "       11166.63848048, 10999.93123714, 10951.51027083, 10942.75689657,\n",
              "       10829.81837479, 10910.88441832, 11189.07831042, 11123.26639619,\n",
              "       11191.40845773, 11170.12390913, 11421.36707671, 11580.09494494,\n",
              "       11520.8973175 , 11480.82670719, 11505.76102578, 11332.08778789,\n",
              "       11366.20522532, 11408.9247651 ])"
            ]
          },
          "metadata": {},
          "execution_count": 60
        }
      ]
    },
    {
      "cell_type": "markdown",
      "source": [
        "## 정수 데이터 카운팅\n",
        "* 만약 난수가 정수값이면 unique 명령이나 bincount 명령으로 데이터 값을 분석"
      ],
      "metadata": {
        "id": "ZMUovoiuaDQc"
      }
    },
    {
      "cell_type": "markdown",
      "source": [
        "### `unique`\n",
        "* unique 함수는 데이터에서 중복된 값을 제거하고 중복되지 않는 값의 리스트를 출력\n",
        "* return_counts 인수를 True 로 설정하면 각 값을 가진 데이터 갯수도 출력\n"
      ],
      "metadata": {
        "id": "CAEPds3DdWz6"
      }
    },
    {
      "cell_type": "code",
      "source": [
        "np.unique([11, 11, 2, 2, 34, 34])"
      ],
      "metadata": {
        "colab": {
          "base_uri": "https://localhost:8080/"
        },
        "outputId": "02993aaf-97bf-4d70-bd2a-0abde18ad3c7",
        "id": "iy8rBy7rdW0A"
      },
      "execution_count": 62,
      "outputs": [
        {
          "output_type": "execute_result",
          "data": {
            "text/plain": [
              "array([ 2, 11, 34])"
            ]
          },
          "metadata": {},
          "execution_count": 62
        }
      ]
    },
    {
      "cell_type": "code",
      "source": [
        "a = np.array(list('abbca'))\n",
        "a"
      ],
      "metadata": {
        "colab": {
          "base_uri": "https://localhost:8080/"
        },
        "id": "7ggTX_pKcVo6",
        "outputId": "0f9ba19d-9650-4bcb-f4a1-9c7de63d9af4"
      },
      "execution_count": 63,
      "outputs": [
        {
          "output_type": "execute_result",
          "data": {
            "text/plain": [
              "array(['a', 'b', 'b', 'c', 'a'], dtype='<U1')"
            ]
          },
          "metadata": {},
          "execution_count": 63
        }
      ]
    },
    {
      "cell_type": "code",
      "source": [
        "np.unique(a, return_counts=True)"
      ],
      "metadata": {
        "colab": {
          "base_uri": "https://localhost:8080/"
        },
        "id": "ieHVBvvaclXM",
        "outputId": "bd62ddce-f00a-4221-c4f9-3de33865ce7e"
      },
      "execution_count": 64,
      "outputs": [
        {
          "output_type": "execute_result",
          "data": {
            "text/plain": [
              "(array(['a', 'b', 'c'], dtype='<U1'), array([2, 2, 1]))"
            ]
          },
          "metadata": {},
          "execution_count": 64
        }
      ]
    },
    {
      "cell_type": "code",
      "source": [
        "index, value = np.unique(a, return_counts=True)\n",
        "index, value"
      ],
      "metadata": {
        "colab": {
          "base_uri": "https://localhost:8080/"
        },
        "outputId": "a22df14d-3b71-4572-9ff0-a90ffac64739",
        "id": "t6hMazX8dW0B"
      },
      "execution_count": 65,
      "outputs": [
        {
          "output_type": "execute_result",
          "data": {
            "text/plain": [
              "(array(['a', 'b', 'c'], dtype='<U1'), array([2, 2, 1]))"
            ]
          },
          "metadata": {},
          "execution_count": 65
        }
      ]
    },
    {
      "cell_type": "code",
      "source": [
        "# dict(np.unique(a, return_counts=True))"
      ],
      "metadata": {
        "id": "D-UBxSmBdW0B"
      },
      "execution_count": 66,
      "outputs": []
    },
    {
      "cell_type": "code",
      "source": [
        "zip(np.unique(a, return_counts=True)) # 같은 값이 있는 것들이 튜플로 묶어준다."
      ],
      "metadata": {
        "colab": {
          "base_uri": "https://localhost:8080/"
        },
        "outputId": "0ab864d5-f2f6-44d6-eedd-74da8a1af1e7",
        "id": "rxBhQWJKdW0B"
      },
      "execution_count": 67,
      "outputs": [
        {
          "output_type": "execute_result",
          "data": {
            "text/plain": [
              "<zip at 0x7f15f5924200>"
            ]
          },
          "metadata": {},
          "execution_count": 67
        }
      ]
    },
    {
      "cell_type": "code",
      "source": [
        "list(zip(np.unique(a, return_counts=True)))"
      ],
      "metadata": {
        "colab": {
          "base_uri": "https://localhost:8080/"
        },
        "id": "rOM4jKLfdx42",
        "outputId": "fe2732d5-196d-41d2-f815-999769dabca7"
      },
      "execution_count": 69,
      "outputs": [
        {
          "output_type": "execute_result",
          "data": {
            "text/plain": [
              "[(array(['a', 'b', 'c'], dtype='<U1'),), (array([2, 2, 1]),)]"
            ]
          },
          "metadata": {},
          "execution_count": 69
        }
      ]
    },
    {
      "cell_type": "code",
      "source": [
        "dict(zip(*np.unique(a, return_counts=True)))"
      ],
      "metadata": {
        "colab": {
          "base_uri": "https://localhost:8080/"
        },
        "id": "P1-7_u_BdjDY",
        "outputId": "2c81e00c-46d2-4f21-914a-4d7618696e81"
      },
      "execution_count": 68,
      "outputs": [
        {
          "output_type": "execute_result",
          "data": {
            "text/plain": [
              "{'a': 2, 'b': 2, 'c': 1}"
            ]
          },
          "metadata": {},
          "execution_count": 68
        }
      ]
    },
    {
      "cell_type": "markdown",
      "source": [
        "### `bincount`\n",
        "* `unique` 함수는 데이터에 존재하는 값에 대해서만 갯수를 세므로 데이터 값이 나올 수 있음에도 불구하고 데이터가 하나도 없는 경우에는 정보를 주지 않음\n",
        "* 따라서 데이터가 주사위를 던졌을 때 나오는 수처럼 특정 범위안의 수인 경우에는 `bincount` 함수에 `minlength` 인수를 설정하여 쓰는 것이 더 편리\n",
        "* `bincount` 함수는 0 부터 `minlength` - 1 까지의 숫자에 대해 각각 카운트\n",
        "* 데이터가 없을 경우에는 카운트 값이 0이 됨"
      ],
      "metadata": {
        "id": "8rXw8WzuaDQd"
      }
    },
    {
      "cell_type": "code",
      "source": [
        "np.bincount([1, 1, 2, 2, 2, 3], minlength=6) # 1 = 2, 2 = 3, 3 = 1"
      ],
      "metadata": {
        "colab": {
          "base_uri": "https://localhost:8080/"
        },
        "outputId": "766f618d-daf8-4f3f-eb95-f28ab6400869",
        "id": "I63edyfZaDQd"
      },
      "execution_count": 70,
      "outputs": [
        {
          "output_type": "execute_result",
          "data": {
            "text/plain": [
              "array([0, 2, 3, 1, 0, 0])"
            ]
          },
          "metadata": {},
          "execution_count": 70
        }
      ]
    }
  ]
}
